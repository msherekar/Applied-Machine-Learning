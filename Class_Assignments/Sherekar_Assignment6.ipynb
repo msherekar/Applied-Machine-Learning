{
  "nbformat": 4,
  "nbformat_minor": 0,
  "metadata": {
    "colab": {
      "provenance": []
    },
    "kernelspec": {
      "name": "python3",
      "display_name": "Python 3"
    },
    "language_info": {
      "name": "python"
    }
  },
  "cells": [
    {
      "cell_type": "code",
      "execution_count": null,
      "metadata": {
        "id": "_e-2biPiZVvA"
      },
      "outputs": [],
      "source": [
        "# p(poisonous) and e (edible) converted to 0 and 1"
      ]
    },
    {
      "cell_type": "code",
      "source": [
        "#Following avoids a warning for KMeans\n",
        "%env OMP_NUM_THREADS=2\n",
        "\n",
        "import warnings\n",
        "warnings.filterwarnings('ignore')\n",
        "\n",
        "# Standard libraries we always include\n",
        "%matplotlib inline\n",
        "import matplotlib.pyplot as plt\n",
        "from IPython.display import display\n",
        "import numpy as np\n",
        "import pandas as pd\n",
        "import seaborn as sns; sns.set(style=\"ticks\", color_codes=True)\n",
        "\n",
        "\n",
        "from scipy.special import comb\n",
        "import math\n",
        "from sklearn.base import BaseEstimator\n",
        "from sklearn.base import ClassifierMixin\n",
        "from sklearn.preprocessing import LabelEncoder\n",
        "from sklearn.base import clone\n",
        "from sklearn.pipeline import _name_estimators\n",
        "import numpy as np\n",
        "import operator\n",
        "\n",
        "\n",
        "from sklearn import datasets\n",
        "from sklearn.preprocessing import StandardScaler\n",
        "from sklearn.preprocessing import LabelEncoder\n",
        "from sklearn.model_selection import train_test_split\n",
        "from sklearn.linear_model import LogisticRegression\n",
        "from sklearn.tree import DecisionTreeClassifier\n",
        "from sklearn.neighbors import KNeighborsClassifier \n",
        "from sklearn.pipeline import Pipeline\n",
        "from sklearn.model_selection import cross_val_score\n",
        "from sklearn.model_selection import StratifiedKFold\n",
        "from sklearn.metrics import accuracy_score"
      ],
      "metadata": {
        "colab": {
          "base_uri": "https://localhost:8080/"
        },
        "id": "Pnygev4X6MeT",
        "outputId": "c7a37d71-4d10-4a2b-b5e6-f72c64ea26cd"
      },
      "execution_count": 16,
      "outputs": [
        {
          "output_type": "stream",
          "name": "stdout",
          "text": [
            "env: OMP_NUM_THREADS=2\n"
          ]
        }
      ]
    },
    {
      "cell_type": "code",
      "execution_count": 2,
      "metadata": {
        "colab": {
          "base_uri": "https://localhost:8080/",
          "height": 76
        },
        "id": "xn8lWEnS409q",
        "outputId": "d03ce4e0-144d-4375-ba02-e6bd41852a22"
      },
      "outputs": [
        {
          "output_type": "display_data",
          "data": {
            "text/plain": [
              "<IPython.core.display.HTML object>"
            ],
            "text/html": [
              "\n",
              "     <input type=\"file\" id=\"files-6bccaaa2-941d-4284-99fa-55cca3bdba00\" name=\"files[]\" multiple disabled\n",
              "        style=\"border:none\" />\n",
              "     <output id=\"result-6bccaaa2-941d-4284-99fa-55cca3bdba00\">\n",
              "      Upload widget is only available when the cell has been executed in the\n",
              "      current browser session. Please rerun this cell to enable.\n",
              "      </output>\n",
              "      <script>// Copyright 2017 Google LLC\n",
              "//\n",
              "// Licensed under the Apache License, Version 2.0 (the \"License\");\n",
              "// you may not use this file except in compliance with the License.\n",
              "// You may obtain a copy of the License at\n",
              "//\n",
              "//      http://www.apache.org/licenses/LICENSE-2.0\n",
              "//\n",
              "// Unless required by applicable law or agreed to in writing, software\n",
              "// distributed under the License is distributed on an \"AS IS\" BASIS,\n",
              "// WITHOUT WARRANTIES OR CONDITIONS OF ANY KIND, either express or implied.\n",
              "// See the License for the specific language governing permissions and\n",
              "// limitations under the License.\n",
              "\n",
              "/**\n",
              " * @fileoverview Helpers for google.colab Python module.\n",
              " */\n",
              "(function(scope) {\n",
              "function span(text, styleAttributes = {}) {\n",
              "  const element = document.createElement('span');\n",
              "  element.textContent = text;\n",
              "  for (const key of Object.keys(styleAttributes)) {\n",
              "    element.style[key] = styleAttributes[key];\n",
              "  }\n",
              "  return element;\n",
              "}\n",
              "\n",
              "// Max number of bytes which will be uploaded at a time.\n",
              "const MAX_PAYLOAD_SIZE = 100 * 1024;\n",
              "\n",
              "function _uploadFiles(inputId, outputId) {\n",
              "  const steps = uploadFilesStep(inputId, outputId);\n",
              "  const outputElement = document.getElementById(outputId);\n",
              "  // Cache steps on the outputElement to make it available for the next call\n",
              "  // to uploadFilesContinue from Python.\n",
              "  outputElement.steps = steps;\n",
              "\n",
              "  return _uploadFilesContinue(outputId);\n",
              "}\n",
              "\n",
              "// This is roughly an async generator (not supported in the browser yet),\n",
              "// where there are multiple asynchronous steps and the Python side is going\n",
              "// to poll for completion of each step.\n",
              "// This uses a Promise to block the python side on completion of each step,\n",
              "// then passes the result of the previous step as the input to the next step.\n",
              "function _uploadFilesContinue(outputId) {\n",
              "  const outputElement = document.getElementById(outputId);\n",
              "  const steps = outputElement.steps;\n",
              "\n",
              "  const next = steps.next(outputElement.lastPromiseValue);\n",
              "  return Promise.resolve(next.value.promise).then((value) => {\n",
              "    // Cache the last promise value to make it available to the next\n",
              "    // step of the generator.\n",
              "    outputElement.lastPromiseValue = value;\n",
              "    return next.value.response;\n",
              "  });\n",
              "}\n",
              "\n",
              "/**\n",
              " * Generator function which is called between each async step of the upload\n",
              " * process.\n",
              " * @param {string} inputId Element ID of the input file picker element.\n",
              " * @param {string} outputId Element ID of the output display.\n",
              " * @return {!Iterable<!Object>} Iterable of next steps.\n",
              " */\n",
              "function* uploadFilesStep(inputId, outputId) {\n",
              "  const inputElement = document.getElementById(inputId);\n",
              "  inputElement.disabled = false;\n",
              "\n",
              "  const outputElement = document.getElementById(outputId);\n",
              "  outputElement.innerHTML = '';\n",
              "\n",
              "  const pickedPromise = new Promise((resolve) => {\n",
              "    inputElement.addEventListener('change', (e) => {\n",
              "      resolve(e.target.files);\n",
              "    });\n",
              "  });\n",
              "\n",
              "  const cancel = document.createElement('button');\n",
              "  inputElement.parentElement.appendChild(cancel);\n",
              "  cancel.textContent = 'Cancel upload';\n",
              "  const cancelPromise = new Promise((resolve) => {\n",
              "    cancel.onclick = () => {\n",
              "      resolve(null);\n",
              "    };\n",
              "  });\n",
              "\n",
              "  // Wait for the user to pick the files.\n",
              "  const files = yield {\n",
              "    promise: Promise.race([pickedPromise, cancelPromise]),\n",
              "    response: {\n",
              "      action: 'starting',\n",
              "    }\n",
              "  };\n",
              "\n",
              "  cancel.remove();\n",
              "\n",
              "  // Disable the input element since further picks are not allowed.\n",
              "  inputElement.disabled = true;\n",
              "\n",
              "  if (!files) {\n",
              "    return {\n",
              "      response: {\n",
              "        action: 'complete',\n",
              "      }\n",
              "    };\n",
              "  }\n",
              "\n",
              "  for (const file of files) {\n",
              "    const li = document.createElement('li');\n",
              "    li.append(span(file.name, {fontWeight: 'bold'}));\n",
              "    li.append(span(\n",
              "        `(${file.type || 'n/a'}) - ${file.size} bytes, ` +\n",
              "        `last modified: ${\n",
              "            file.lastModifiedDate ? file.lastModifiedDate.toLocaleDateString() :\n",
              "                                    'n/a'} - `));\n",
              "    const percent = span('0% done');\n",
              "    li.appendChild(percent);\n",
              "\n",
              "    outputElement.appendChild(li);\n",
              "\n",
              "    const fileDataPromise = new Promise((resolve) => {\n",
              "      const reader = new FileReader();\n",
              "      reader.onload = (e) => {\n",
              "        resolve(e.target.result);\n",
              "      };\n",
              "      reader.readAsArrayBuffer(file);\n",
              "    });\n",
              "    // Wait for the data to be ready.\n",
              "    let fileData = yield {\n",
              "      promise: fileDataPromise,\n",
              "      response: {\n",
              "        action: 'continue',\n",
              "      }\n",
              "    };\n",
              "\n",
              "    // Use a chunked sending to avoid message size limits. See b/62115660.\n",
              "    let position = 0;\n",
              "    do {\n",
              "      const length = Math.min(fileData.byteLength - position, MAX_PAYLOAD_SIZE);\n",
              "      const chunk = new Uint8Array(fileData, position, length);\n",
              "      position += length;\n",
              "\n",
              "      const base64 = btoa(String.fromCharCode.apply(null, chunk));\n",
              "      yield {\n",
              "        response: {\n",
              "          action: 'append',\n",
              "          file: file.name,\n",
              "          data: base64,\n",
              "        },\n",
              "      };\n",
              "\n",
              "      let percentDone = fileData.byteLength === 0 ?\n",
              "          100 :\n",
              "          Math.round((position / fileData.byteLength) * 100);\n",
              "      percent.textContent = `${percentDone}% done`;\n",
              "\n",
              "    } while (position < fileData.byteLength);\n",
              "  }\n",
              "\n",
              "  // All done.\n",
              "  yield {\n",
              "    response: {\n",
              "      action: 'complete',\n",
              "    }\n",
              "  };\n",
              "}\n",
              "\n",
              "scope.google = scope.google || {};\n",
              "scope.google.colab = scope.google.colab || {};\n",
              "scope.google.colab._files = {\n",
              "  _uploadFiles,\n",
              "  _uploadFilesContinue,\n",
              "};\n",
              "})(self);\n",
              "</script> "
            ]
          },
          "metadata": {}
        },
        {
          "output_type": "stream",
          "name": "stdout",
          "text": [
            "Saving mushroom_dataset.csv to mushroom_dataset.csv\n"
          ]
        }
      ],
      "source": [
        "from google.colab import files\n",
        "uploaded_1 = files.upload()"
      ]
    },
    {
      "cell_type": "code",
      "source": [
        "import io\n",
        "df1 = pd.read_csv(io.BytesIO(uploaded_1['mushroom_dataset.csv']))"
      ],
      "metadata": {
        "id": "YjAdwYIBZzru"
      },
      "execution_count": 3,
      "outputs": []
    },
    {
      "cell_type": "markdown",
      "source": [
        "** Checking out the dataset**"
      ],
      "metadata": {
        "id": "OKsM5AP8Z6uP"
      }
    },
    {
      "cell_type": "code",
      "source": [
        "df1.head()"
      ],
      "metadata": {
        "colab": {
          "base_uri": "https://localhost:8080/",
          "height": 352
        },
        "id": "2bA9bdeOZ_M_",
        "outputId": "519669c6-ccbc-41bd-fdcb-ae681f288b1e"
      },
      "execution_count": null,
      "outputs": [
        {
          "output_type": "execute_result",
          "data": {
            "text/plain": [
              "  class cap-shape cap-surface cap-color bruises odor gill-attachment  \\\n",
              "0     p         x           s         n       t    p               f   \n",
              "1     e         x           s         y       t    a               f   \n",
              "2     e         b           s         w       t    l               f   \n",
              "3     p         x           y         w       t    p               f   \n",
              "4     e         x           s         g       f    n               f   \n",
              "\n",
              "  gill-spacing gill-size gill-color  ... stalk-surface-below-ring  \\\n",
              "0            c         n          k  ...                        s   \n",
              "1            c         b          k  ...                        s   \n",
              "2            c         b          n  ...                        s   \n",
              "3            c         n          n  ...                        s   \n",
              "4            w         b          k  ...                        s   \n",
              "\n",
              "  stalk-color-above-ring stalk-color-below-ring veil-type veil-color  \\\n",
              "0                      w                      w         p          w   \n",
              "1                      w                      w         p          w   \n",
              "2                      w                      w         p          w   \n",
              "3                      w                      w         p          w   \n",
              "4                      w                      w         p          w   \n",
              "\n",
              "  ring-number ring-type spore-print-color population habitat  \n",
              "0           o         p                 k          s       u  \n",
              "1           o         p                 n          n       g  \n",
              "2           o         p                 n          n       m  \n",
              "3           o         p                 k          s       u  \n",
              "4           o         e                 n          a       g  \n",
              "\n",
              "[5 rows x 23 columns]"
            ],
            "text/html": [
              "\n",
              "  <div id=\"df-641f902b-796f-40cd-ad81-be2e20f9cd5b\">\n",
              "    <div class=\"colab-df-container\">\n",
              "      <div>\n",
              "<style scoped>\n",
              "    .dataframe tbody tr th:only-of-type {\n",
              "        vertical-align: middle;\n",
              "    }\n",
              "\n",
              "    .dataframe tbody tr th {\n",
              "        vertical-align: top;\n",
              "    }\n",
              "\n",
              "    .dataframe thead th {\n",
              "        text-align: right;\n",
              "    }\n",
              "</style>\n",
              "<table border=\"1\" class=\"dataframe\">\n",
              "  <thead>\n",
              "    <tr style=\"text-align: right;\">\n",
              "      <th></th>\n",
              "      <th>class</th>\n",
              "      <th>cap-shape</th>\n",
              "      <th>cap-surface</th>\n",
              "      <th>cap-color</th>\n",
              "      <th>bruises</th>\n",
              "      <th>odor</th>\n",
              "      <th>gill-attachment</th>\n",
              "      <th>gill-spacing</th>\n",
              "      <th>gill-size</th>\n",
              "      <th>gill-color</th>\n",
              "      <th>...</th>\n",
              "      <th>stalk-surface-below-ring</th>\n",
              "      <th>stalk-color-above-ring</th>\n",
              "      <th>stalk-color-below-ring</th>\n",
              "      <th>veil-type</th>\n",
              "      <th>veil-color</th>\n",
              "      <th>ring-number</th>\n",
              "      <th>ring-type</th>\n",
              "      <th>spore-print-color</th>\n",
              "      <th>population</th>\n",
              "      <th>habitat</th>\n",
              "    </tr>\n",
              "  </thead>\n",
              "  <tbody>\n",
              "    <tr>\n",
              "      <th>0</th>\n",
              "      <td>p</td>\n",
              "      <td>x</td>\n",
              "      <td>s</td>\n",
              "      <td>n</td>\n",
              "      <td>t</td>\n",
              "      <td>p</td>\n",
              "      <td>f</td>\n",
              "      <td>c</td>\n",
              "      <td>n</td>\n",
              "      <td>k</td>\n",
              "      <td>...</td>\n",
              "      <td>s</td>\n",
              "      <td>w</td>\n",
              "      <td>w</td>\n",
              "      <td>p</td>\n",
              "      <td>w</td>\n",
              "      <td>o</td>\n",
              "      <td>p</td>\n",
              "      <td>k</td>\n",
              "      <td>s</td>\n",
              "      <td>u</td>\n",
              "    </tr>\n",
              "    <tr>\n",
              "      <th>1</th>\n",
              "      <td>e</td>\n",
              "      <td>x</td>\n",
              "      <td>s</td>\n",
              "      <td>y</td>\n",
              "      <td>t</td>\n",
              "      <td>a</td>\n",
              "      <td>f</td>\n",
              "      <td>c</td>\n",
              "      <td>b</td>\n",
              "      <td>k</td>\n",
              "      <td>...</td>\n",
              "      <td>s</td>\n",
              "      <td>w</td>\n",
              "      <td>w</td>\n",
              "      <td>p</td>\n",
              "      <td>w</td>\n",
              "      <td>o</td>\n",
              "      <td>p</td>\n",
              "      <td>n</td>\n",
              "      <td>n</td>\n",
              "      <td>g</td>\n",
              "    </tr>\n",
              "    <tr>\n",
              "      <th>2</th>\n",
              "      <td>e</td>\n",
              "      <td>b</td>\n",
              "      <td>s</td>\n",
              "      <td>w</td>\n",
              "      <td>t</td>\n",
              "      <td>l</td>\n",
              "      <td>f</td>\n",
              "      <td>c</td>\n",
              "      <td>b</td>\n",
              "      <td>n</td>\n",
              "      <td>...</td>\n",
              "      <td>s</td>\n",
              "      <td>w</td>\n",
              "      <td>w</td>\n",
              "      <td>p</td>\n",
              "      <td>w</td>\n",
              "      <td>o</td>\n",
              "      <td>p</td>\n",
              "      <td>n</td>\n",
              "      <td>n</td>\n",
              "      <td>m</td>\n",
              "    </tr>\n",
              "    <tr>\n",
              "      <th>3</th>\n",
              "      <td>p</td>\n",
              "      <td>x</td>\n",
              "      <td>y</td>\n",
              "      <td>w</td>\n",
              "      <td>t</td>\n",
              "      <td>p</td>\n",
              "      <td>f</td>\n",
              "      <td>c</td>\n",
              "      <td>n</td>\n",
              "      <td>n</td>\n",
              "      <td>...</td>\n",
              "      <td>s</td>\n",
              "      <td>w</td>\n",
              "      <td>w</td>\n",
              "      <td>p</td>\n",
              "      <td>w</td>\n",
              "      <td>o</td>\n",
              "      <td>p</td>\n",
              "      <td>k</td>\n",
              "      <td>s</td>\n",
              "      <td>u</td>\n",
              "    </tr>\n",
              "    <tr>\n",
              "      <th>4</th>\n",
              "      <td>e</td>\n",
              "      <td>x</td>\n",
              "      <td>s</td>\n",
              "      <td>g</td>\n",
              "      <td>f</td>\n",
              "      <td>n</td>\n",
              "      <td>f</td>\n",
              "      <td>w</td>\n",
              "      <td>b</td>\n",
              "      <td>k</td>\n",
              "      <td>...</td>\n",
              "      <td>s</td>\n",
              "      <td>w</td>\n",
              "      <td>w</td>\n",
              "      <td>p</td>\n",
              "      <td>w</td>\n",
              "      <td>o</td>\n",
              "      <td>e</td>\n",
              "      <td>n</td>\n",
              "      <td>a</td>\n",
              "      <td>g</td>\n",
              "    </tr>\n",
              "  </tbody>\n",
              "</table>\n",
              "<p>5 rows × 23 columns</p>\n",
              "</div>\n",
              "      <button class=\"colab-df-convert\" onclick=\"convertToInteractive('df-641f902b-796f-40cd-ad81-be2e20f9cd5b')\"\n",
              "              title=\"Convert this dataframe to an interactive table.\"\n",
              "              style=\"display:none;\">\n",
              "        \n",
              "  <svg xmlns=\"http://www.w3.org/2000/svg\" height=\"24px\"viewBox=\"0 0 24 24\"\n",
              "       width=\"24px\">\n",
              "    <path d=\"M0 0h24v24H0V0z\" fill=\"none\"/>\n",
              "    <path d=\"M18.56 5.44l.94 2.06.94-2.06 2.06-.94-2.06-.94-.94-2.06-.94 2.06-2.06.94zm-11 1L8.5 8.5l.94-2.06 2.06-.94-2.06-.94L8.5 2.5l-.94 2.06-2.06.94zm10 10l.94 2.06.94-2.06 2.06-.94-2.06-.94-.94-2.06-.94 2.06-2.06.94z\"/><path d=\"M17.41 7.96l-1.37-1.37c-.4-.4-.92-.59-1.43-.59-.52 0-1.04.2-1.43.59L10.3 9.45l-7.72 7.72c-.78.78-.78 2.05 0 2.83L4 21.41c.39.39.9.59 1.41.59.51 0 1.02-.2 1.41-.59l7.78-7.78 2.81-2.81c.8-.78.8-2.07 0-2.86zM5.41 20L4 18.59l7.72-7.72 1.47 1.35L5.41 20z\"/>\n",
              "  </svg>\n",
              "      </button>\n",
              "      \n",
              "  <style>\n",
              "    .colab-df-container {\n",
              "      display:flex;\n",
              "      flex-wrap:wrap;\n",
              "      gap: 12px;\n",
              "    }\n",
              "\n",
              "    .colab-df-convert {\n",
              "      background-color: #E8F0FE;\n",
              "      border: none;\n",
              "      border-radius: 50%;\n",
              "      cursor: pointer;\n",
              "      display: none;\n",
              "      fill: #1967D2;\n",
              "      height: 32px;\n",
              "      padding: 0 0 0 0;\n",
              "      width: 32px;\n",
              "    }\n",
              "\n",
              "    .colab-df-convert:hover {\n",
              "      background-color: #E2EBFA;\n",
              "      box-shadow: 0px 1px 2px rgba(60, 64, 67, 0.3), 0px 1px 3px 1px rgba(60, 64, 67, 0.15);\n",
              "      fill: #174EA6;\n",
              "    }\n",
              "\n",
              "    [theme=dark] .colab-df-convert {\n",
              "      background-color: #3B4455;\n",
              "      fill: #D2E3FC;\n",
              "    }\n",
              "\n",
              "    [theme=dark] .colab-df-convert:hover {\n",
              "      background-color: #434B5C;\n",
              "      box-shadow: 0px 1px 3px 1px rgba(0, 0, 0, 0.15);\n",
              "      filter: drop-shadow(0px 1px 2px rgba(0, 0, 0, 0.3));\n",
              "      fill: #FFFFFF;\n",
              "    }\n",
              "  </style>\n",
              "\n",
              "      <script>\n",
              "        const buttonEl =\n",
              "          document.querySelector('#df-641f902b-796f-40cd-ad81-be2e20f9cd5b button.colab-df-convert');\n",
              "        buttonEl.style.display =\n",
              "          google.colab.kernel.accessAllowed ? 'block' : 'none';\n",
              "\n",
              "        async function convertToInteractive(key) {\n",
              "          const element = document.querySelector('#df-641f902b-796f-40cd-ad81-be2e20f9cd5b');\n",
              "          const dataTable =\n",
              "            await google.colab.kernel.invokeFunction('convertToInteractive',\n",
              "                                                     [key], {});\n",
              "          if (!dataTable) return;\n",
              "\n",
              "          const docLinkHtml = 'Like what you see? Visit the ' +\n",
              "            '<a target=\"_blank\" href=https://colab.research.google.com/notebooks/data_table.ipynb>data table notebook</a>'\n",
              "            + ' to learn more about interactive tables.';\n",
              "          element.innerHTML = '';\n",
              "          dataTable['output_type'] = 'display_data';\n",
              "          await google.colab.output.renderOutput(dataTable, element);\n",
              "          const docLink = document.createElement('div');\n",
              "          docLink.innerHTML = docLinkHtml;\n",
              "          element.appendChild(docLink);\n",
              "        }\n",
              "      </script>\n",
              "    </div>\n",
              "  </div>\n",
              "  "
            ]
          },
          "metadata": {},
          "execution_count": 5
        }
      ]
    },
    {
      "cell_type": "code",
      "source": [
        "df1.dtypes"
      ],
      "metadata": {
        "colab": {
          "base_uri": "https://localhost:8080/"
        },
        "id": "wMV12onmaKwl",
        "outputId": "0451e082-d1ce-4412-b9fb-7c8c268e16ca"
      },
      "execution_count": null,
      "outputs": [
        {
          "output_type": "execute_result",
          "data": {
            "text/plain": [
              "class                       object\n",
              "cap-shape                   object\n",
              "cap-surface                 object\n",
              "cap-color                   object\n",
              "bruises                     object\n",
              "odor                        object\n",
              "gill-attachment             object\n",
              "gill-spacing                object\n",
              "gill-size                   object\n",
              "gill-color                  object\n",
              "stalk-shape                 object\n",
              "stalk-root                  object\n",
              "stalk-surface-above-ring    object\n",
              "stalk-surface-below-ring    object\n",
              "stalk-color-above-ring      object\n",
              "stalk-color-below-ring      object\n",
              "veil-type                   object\n",
              "veil-color                  object\n",
              "ring-number                 object\n",
              "ring-type                   object\n",
              "spore-print-color           object\n",
              "population                  object\n",
              "habitat                     object\n",
              "dtype: object"
            ]
          },
          "metadata": {},
          "execution_count": 6
        }
      ]
    },
    {
      "cell_type": "code",
      "source": [
        "df1.isnull().any()"
      ],
      "metadata": {
        "colab": {
          "base_uri": "https://localhost:8080/"
        },
        "id": "iYGOJ4SeaVtZ",
        "outputId": "50f0fc09-6bef-43d7-c5cd-fef20091ee66"
      },
      "execution_count": null,
      "outputs": [
        {
          "output_type": "execute_result",
          "data": {
            "text/plain": [
              "class                       False\n",
              "cap-shape                   False\n",
              "cap-surface                 False\n",
              "cap-color                   False\n",
              "bruises                     False\n",
              "odor                        False\n",
              "gill-attachment             False\n",
              "gill-spacing                False\n",
              "gill-size                   False\n",
              "gill-color                  False\n",
              "stalk-shape                 False\n",
              "stalk-root                  False\n",
              "stalk-surface-above-ring    False\n",
              "stalk-surface-below-ring    False\n",
              "stalk-color-above-ring      False\n",
              "stalk-color-below-ring      False\n",
              "veil-type                   False\n",
              "veil-color                  False\n",
              "ring-number                 False\n",
              "ring-type                   False\n",
              "spore-print-color           False\n",
              "population                  False\n",
              "habitat                     False\n",
              "dtype: bool"
            ]
          },
          "metadata": {},
          "execution_count": 7
        }
      ]
    },
    {
      "cell_type": "code",
      "source": [
        "df1[\"is_duplicate\"]= df1.duplicated()\n",
        "\n",
        "# Note that when using f-strings, the internal quote character must be different, such as 'is_duplicate' above\n",
        "print(f\"#total= {len(df1)}\")\n",
        "print(f\"#duplicated= {len(df1[df1['is_duplicate']==True])}\")"
      ],
      "metadata": {
        "colab": {
          "base_uri": "https://localhost:8080/"
        },
        "id": "xM4WI6EJafVk",
        "outputId": "df0932fd-8299-4823-99fc-4df09a50d79f"
      },
      "execution_count": 4,
      "outputs": [
        {
          "output_type": "stream",
          "name": "stdout",
          "text": [
            "#total= 8124\n",
            "#duplicated= 0\n"
          ]
        }
      ]
    },
    {
      "cell_type": "code",
      "source": [
        "df1.isna().sum()"
      ],
      "metadata": {
        "colab": {
          "base_uri": "https://localhost:8080/"
        },
        "id": "AVgm90dnajvl",
        "outputId": "9c513058-bfa2-44f3-c0fb-5a9a77071bf4"
      },
      "execution_count": null,
      "outputs": [
        {
          "output_type": "execute_result",
          "data": {
            "text/plain": [
              "class                       0\n",
              "cap-shape                   0\n",
              "cap-surface                 0\n",
              "cap-color                   0\n",
              "bruises                     0\n",
              "odor                        0\n",
              "gill-attachment             0\n",
              "gill-spacing                0\n",
              "gill-size                   0\n",
              "gill-color                  0\n",
              "stalk-shape                 0\n",
              "stalk-root                  0\n",
              "stalk-surface-above-ring    0\n",
              "stalk-surface-below-ring    0\n",
              "stalk-color-above-ring      0\n",
              "stalk-color-below-ring      0\n",
              "veil-type                   0\n",
              "veil-color                  0\n",
              "ring-number                 0\n",
              "ring-type                   0\n",
              "spore-print-color           0\n",
              "population                  0\n",
              "habitat                     0\n",
              "is_duplicate                0\n",
              "dtype: int64"
            ]
          },
          "metadata": {},
          "execution_count": 9
        }
      ]
    },
    {
      "cell_type": "code",
      "source": [
        "# checking for unique values\n",
        "for f in list(df1.columns.values):\n",
        "    if df1[f].dtype == object:\n",
        "        print(df1[f].unique()) \n",
        "# add name of columns later"
      ],
      "metadata": {
        "colab": {
          "base_uri": "https://localhost:8080/"
        },
        "id": "1tphsfpAar2W",
        "outputId": "6d4f0683-238b-4923-c8d8-3498ad419096"
      },
      "execution_count": 5,
      "outputs": [
        {
          "output_type": "stream",
          "name": "stdout",
          "text": [
            "['p' 'e']\n",
            "['x' 'b' 's' 'f' 'k' 'c']\n",
            "['s' 'y' 'f' 'g']\n",
            "['n' 'y' 'w' 'g' 'e' 'p' 'b' 'u' 'c' 'r']\n",
            "['t' 'f']\n",
            "['p' 'a' 'l' 'n' 'f' 'c' 'y' 's' 'm']\n",
            "['f' 'a']\n",
            "['c' 'w']\n",
            "['n' 'b']\n",
            "['k' 'n' 'g' 'p' 'w' 'h' 'u' 'e' 'b' 'r' 'y' 'o']\n",
            "['e' 't']\n",
            "['e' 'c' 'b' 'r' '?']\n",
            "['s' 'f' 'k' 'y']\n",
            "['s' 'f' 'y' 'k']\n",
            "['w' 'g' 'p' 'n' 'b' 'e' 'o' 'c' 'y']\n",
            "['w' 'p' 'g' 'b' 'n' 'e' 'y' 'o' 'c']\n",
            "['p']\n",
            "['w' 'n' 'o' 'y']\n",
            "['o' 't' 'n']\n",
            "['p' 'e' 'l' 'f' 'n']\n",
            "['k' 'n' 'u' 'h' 'w' 'r' 'o' 'y' 'b']\n",
            "['s' 'n' 'a' 'v' 'y' 'c']\n",
            "['u' 'g' 'm' 'd' 'p' 'w' 'l']\n"
          ]
        }
      ]
    },
    {
      "cell_type": "markdown",
      "source": [
        "** All the columns (feature) are nominal. So, coverting each column into numerical values using get_dummies**"
      ],
      "metadata": {
        "id": "mTPD4GLgbSsT"
      }
    },
    {
      "cell_type": "code",
      "source": [
        "del df1['is_duplicate']"
      ],
      "metadata": {
        "id": "bBvQm0Sa4P95"
      },
      "execution_count": 6,
      "outputs": []
    },
    {
      "cell_type": "code",
      "source": [
        "# Dumification\n",
        "\n",
        "# Dumification of all colums except class because it is the label\n",
        "\n",
        "# creating a new df without class column\n",
        "df2 = df1.loc[:, df1.columns != 'class']\n",
        "columns = df2.columns.values\n",
        "\n",
        "# creating a df of s=just class column to be combined later\n",
        "df3 = df1['class']\n",
        "df6 = df3.replace('p',1)\n",
        "df6 = df6.replace('e',0)\n",
        "\n",
        "# changes\n",
        "#df3['class'] = df3['class'].map({'p': 1, 'e': 0})\n",
        "df5 = pd.get_dummies(df3)\n",
        "\n",
        "# creating dummies using df2\n",
        "df4 = pd.get_dummies(df2, prefix = columns)\n",
        "\n",
        "df = pd.concat([df4, df6], axis=1)\n",
        "\n",
        "\n",
        "\n",
        "\n",
        "\n",
        "\n"
      ],
      "metadata": {
        "id": "_6vs7tQhbgj1"
      },
      "execution_count": 7,
      "outputs": []
    },
    {
      "cell_type": "code",
      "source": [
        "df.head()\n",
        "df.shape"
      ],
      "metadata": {
        "id": "7LkrpIBTgshn",
        "colab": {
          "base_uri": "https://localhost:8080/"
        },
        "outputId": "c9f80f32-d27b-4017-acbb-b064a80ae709"
      },
      "execution_count": null,
      "outputs": [
        {
          "output_type": "execute_result",
          "data": {
            "text/plain": [
              "(8124, 118)"
            ]
          },
          "metadata": {},
          "execution_count": 13
        }
      ]
    },
    {
      "cell_type": "code",
      "source": [
        "# Data Exploration on dummfied data\n",
        "def plt_var(_col):\n",
        "    plt.hist([df1[df1['class']=='p'][_col],df1[df1['class']=='e'][_col]], label=['Poisn','Not Poisn'])    \n",
        "    plt.xlabel(_col)\n",
        "    plt.legend()    \n",
        "\n",
        "plt.figure(figsize=(18, 3), dpi=72)\n",
        "plt.subplot(1, 5, 1)\n",
        "plt_var('odor')\n",
        "\n",
        "plt.subplot(1, 5, 2)\n",
        "plt_var('bruises')\n",
        "\n",
        "plt.subplot(1, 5, 3)\n",
        "plt_var('stalk-root')\n",
        "\n",
        "plt.subplot(1, 5, 4)\n",
        "plt_var('ring-number')\n",
        "\n",
        "\n",
        "\n",
        "plt.show()\n"
      ],
      "metadata": {
        "id": "PWFxeaJ4gVpy",
        "colab": {
          "base_uri": "https://localhost:8080/",
          "height": 233
        },
        "outputId": "4a9eed3f-7b0d-4f3b-d62d-2ef9a20477c6"
      },
      "execution_count": null,
      "outputs": [
        {
          "output_type": "display_data",
          "data": {
            "text/plain": [
              "<Figure size 1296x216 with 4 Axes>"
            ],
            "image/png": "[encoded data removed]"
          },
          "metadata": {}
        }
      ]
    },
    {
      "cell_type": "code",
      "source": [
        "# Prepare the input X and y\n",
        "dfX = df.loc[:, df.columns != 'class']\n",
        "dfy = df.loc[:, df.columns == 'class'].values.ravel()\n",
        "\n",
        "# Sanity check\n",
        "print(f'N={len(dfX)}, M={len(dfX.columns)}')"
      ],
      "metadata": {
        "id": "Y1P9vNLfgGjH",
        "colab": {
          "base_uri": "https://localhost:8080/"
        },
        "outputId": "18217874-41a5-4068-b488-1cf246612275"
      },
      "execution_count": 8,
      "outputs": [
        {
          "output_type": "stream",
          "name": "stdout",
          "text": [
            "N=8124, M=117\n"
          ]
        }
      ]
    },
    {
      "cell_type": "code",
      "source": [
        "# Set our main data structures X and y\n",
        "X = dfX.values\n",
        "y = dfy\n",
        "\n"
      ],
      "metadata": {
        "id": "8Dao6IP2qoB6"
      },
      "execution_count": 9,
      "outputs": []
    },
    {
      "cell_type": "code",
      "source": [
        "# 10-fold CV evaluation of a classifier\n",
        "def eval_classifier(_clf, _X, _y):\n",
        "    accuracies = []\n",
        "    kf = StratifiedKFold(n_splits=10, shuffle=False, random_state=None)\n",
        "    for train_index, test_index in kf.split(_X, _y):\n",
        "        _clf.fit(_X[train_index], _y[train_index])\n",
        "        y_pred = _clf.predict(_X[test_index])\n",
        "        accuracies += [accuracy_score(_y[test_index], y_pred)]\n",
        "    return np.array(accuracies)\n"
      ],
      "metadata": {
        "id": "JZX5QJrRrMEs"
      },
      "execution_count": 10,
      "outputs": []
    },
    {
      "cell_type": "markdown",
      "source": [
        "** Question: 1**\n",
        "\n",
        "# 10 fold CV performances of 4 classifiers\n"
      ],
      "metadata": {
        "id": "Yj0GoCN9d_5h"
      }
    },
    {
      "cell_type": "code",
      "source": [
        "# Gaussian Naive Bayes\n",
        "from sklearn.naive_bayes import GaussianNB\n",
        "acc = eval_classifier(GaussianNB(),X, y)\n",
        "print(f'Naive Bayes CV accuracy={np.mean(acc):.2f} {chr(177)}{np.std(acc):.3f}')\n"
      ],
      "metadata": {
        "id": "FZ-r5plEd-DD",
        "colab": {
          "base_uri": "https://localhost:8080/"
        },
        "outputId": "f0aaad74-2b75-4123-8557-82ea55abee1b"
      },
      "execution_count": 22,
      "outputs": [
        {
          "output_type": "stream",
          "name": "stdout",
          "text": [
            "Naive Bayes CV accuracy=0.91 ±0.086\n"
          ]
        }
      ]
    },
    {
      "cell_type": "code",
      "source": [
        "# Linear SVC\n",
        "from sklearn.svm import SVC\n",
        "acc = eval_classifier(SVC(tol=10, kernel = 'linear', probability = True),                      X, y)\n",
        "print(f'Linear SVC CV accuracy={np.mean(acc):.2f} {chr(177)}{np.std(acc):.3f}')"
      ],
      "metadata": {
        "id": "jcPneetmslWu",
        "colab": {
          "base_uri": "https://localhost:8080/"
        },
        "outputId": "9673dd82-69f9-4c94-87c8-25cbac1889b9"
      },
      "execution_count": 23,
      "outputs": [
        {
          "output_type": "stream",
          "name": "stdout",
          "text": [
            "Linear SVC CV accuracy=0.48 ±0.000\n"
          ]
        }
      ]
    },
    {
      "cell_type": "code",
      "source": [
        "# MLPC i.e basic neural network\n",
        "from sklearn.neural_network import MLPClassifier\n",
        "acc = eval_classifier(MLPClassifier(), X, y)\n",
        "print(f'MLPC accuracy={np.mean(acc):.2f} {chr(177)}{np.std(acc):.3f}')"
      ],
      "metadata": {
        "id": "bHGYM6cGst0q",
        "colab": {
          "base_uri": "https://localhost:8080/"
        },
        "outputId": "fb8de2e1-d636-4fd6-959c-e844ee270f32"
      },
      "execution_count": 24,
      "outputs": [
        {
          "output_type": "stream",
          "name": "stdout",
          "text": [
            "MLPC accuracy=0.96 ±0.087\n"
          ]
        }
      ]
    },
    {
      "cell_type": "code",
      "source": [
        "# Decision Tree\n",
        "from sklearn.tree import DecisionTreeClassifier\n",
        "acc = eval_classifier(DecisionTreeClassifier(), X, y)\n",
        "print(f'Decision Tree accuracy={np.mean(acc):.2f} {chr(177)}{np.std(acc):.3f}')\n"
      ],
      "metadata": {
        "id": "nyGRTj2wuSlb",
        "colab": {
          "base_uri": "https://localhost:8080/"
        },
        "outputId": "f61de0ed-c554-45ee-9aae-1e6d907cfa98"
      },
      "execution_count": 25,
      "outputs": [
        {
          "output_type": "stream",
          "name": "stdout",
          "text": [
            "Decision Tree accuracy=0.97 ±0.094\n"
          ]
        }
      ]
    },
    {
      "cell_type": "code",
      "source": [
        "# Random Forest\n",
        "from sklearn.ensemble import RandomForestClassifier\n",
        "acc = eval_classifier(RandomForestClassifier(), X, y)\n",
        "print(f'Random Forest accuracy={np.mean(acc):.2f} {chr(177)}{np.std(acc):.3f}')\n",
        "\n"
      ],
      "metadata": {
        "id": "ydcUHxSYuhtT",
        "colab": {
          "base_uri": "https://localhost:8080/"
        },
        "outputId": "887c3b75-6cfd-4206-84e4-ea64cac64673"
      },
      "execution_count": 26,
      "outputs": [
        {
          "output_type": "stream",
          "name": "stdout",
          "text": [
            "Random Forest accuracy=0.97 ±0.094\n"
          ]
        }
      ]
    },
    {
      "cell_type": "markdown",
      "source": [
        "** Question: 2 **\n",
        "## Generating ensemble of 100 classifiers##\n"
      ],
      "metadata": {
        "id": "JlHggnuOu5eb"
      }
    },
    {
      "cell_type": "code",
      "source": [
        "from sklearn.ensemble import BaggingClassifier\n",
        "\n",
        "bag_nb = BaggingClassifier(base_estimator=GaussianNB, n_estimators=100)\n",
        "bag_svc = BaggingClassifier(base_estimator=SVC(tol=10, kernel = 'linear', probability = True),n_estimators=100)\n",
        "bag_mlpc = BaggingClassifier(base_estimator=MLPClassifier(hidden_layer_sizes=(3,3), max_iter=30, tol = 1e-1,early_stopping=True),n_estimators=100)\n",
        "bag_dt = BaggingClassifier(base_estimator=DecisionTreeClassifier(max_depth = 5, max_features=5),n_estimators=100)\n",
        "\n",
        "# list of ensemble classifiers\n",
        "E = [bag_nb, bag_svc, bag_mlpc, bag_dt]\n",
        "\n"
      ],
      "metadata": {
        "id": "Dn3F-Q0O6OWw"
      },
      "execution_count": 52,
      "outputs": []
    },
    {
      "cell_type": "code",
      "source": [
        "# Performace of 1st classifier for each ensemble\n",
        "\n",
        "def Performance(clf):\n",
        "   \n",
        "    bag = BaggingClassifier(base_estimator=clf,\n",
        "                            n_estimators=100, \n",
        "                            max_samples=1.0, \n",
        "                            max_features=1.0, \n",
        "                            bootstrap=True, \n",
        "                            bootstrap_features=False, \n",
        "                            n_jobs=1, \n",
        "                            random_state=1)\n",
        "    acc = eval_classifier(bag,X, y)\n",
        "    mean_acc = np.mean(acc)\n",
        "    std = np.std(acc)\n",
        "    return acc[0]\n",
        "\n",
        "perf_nb = Performance(GaussianNB())\n",
        "perf_svc = Performance(SVC(tol=10, kernel = 'linear', probability = True))\n",
        "perf_mlpc = Performance(MLPClassifier(hidden_layer_sizes=(3,3), max_iter=30, tol = 1e-1,early_stopping=True))\n",
        "perf_dt = Performance(DecisionTreeClassifier(max_depth = 5, max_features=5))\n",
        "print(f'Performace of the first classifier of Naive Bayes Ensemble is: {perf_nb:.2f}')\n",
        "print(f'Performace of the first classifier of SVC Ensemble is: {perf_svc:.2f}')\n",
        "print(f'Performace of the first classifier of MLPC Ensemble is: {perf_mlpc:.2f}')\n",
        "print(f'Performace of the first classifier of Decision Tree Ensemble is: {perf_dt:.2f}')\n",
        "\n",
        "\n"
      ],
      "metadata": {
        "colab": {
          "base_uri": "https://localhost:8080/"
        },
        "id": "o_Iyl6SBFDfx",
        "outputId": "0029ae37-2ccc-4ca8-a9dd-810f5da58275"
      },
      "execution_count": 48,
      "outputs": [
        {
          "output_type": "stream",
          "name": "stdout",
          "text": [
            "Performace of the first classifier of Naive Bayes Ensemble is: 0.68\n",
            "Performace of the first classifier of SVC Ensemble is: 0.52\n",
            "Performace of the first classifier of MLPC Ensemble is: 0.69\n",
            "Performace of the first classifier of Decision Tree Ensemble is: 0.69\n"
          ]
        }
      ]
    },
    {
      "cell_type": "markdown",
      "source": [
        "** Question: 3**\n",
        "## Fitting the ensemble classifiers on subsampled data ##"
      ],
      "metadata": {
        "id": "_PpxUYWCNO9M"
      }
    },
    {
      "cell_type": "code",
      "source": [
        "# creating subset of training data\n",
        "# using 25% of data\n",
        "\n",
        "def ensemble_fit(clf):\n",
        "\n",
        "    df7 = df.sample(n=None, frac=0.25, replace=False, weights=None, random_state=None, axis=None, ignore_index=False)\n",
        "\n",
        "    # Prepare the input X and y\n",
        "    dfX = df7.loc[:, df.columns != 'class']\n",
        "    dfy = df7.loc[:, df.columns == 'class'].values.ravel()\n",
        "\n",
        "\n",
        "\n",
        "    # Set our main data structures X and y\n",
        "    X = dfX.values\n",
        "    y = dfy\n",
        "\n",
        "    X_train, X_test, y_train, y_test =\\\n",
        "                train_test_split(X, y, \n",
        "                                test_size=0.2, \n",
        "                                random_state=1,\n",
        "                                stratify=y)\n",
        "   \n",
        "    bag = BaggingClassifier(base_estimator=clf,\n",
        "                            n_estimators=100, \n",
        "                            max_samples=1.0, \n",
        "                            max_features=1.0, \n",
        "                            bootstrap=True, \n",
        "                            bootstrap_features=False, \n",
        "                            n_jobs=1, \n",
        "                            random_state=1)\n",
        "    \n",
        "    \n",
        "    bag = bag.fit(X_train, y_train)\n",
        "    return bag\n",
        "\n",
        "nb_fit = ensemble_fit(GaussianNB())\n",
        "svc_fit = ensemble_fit(SVC(tol=10, kernel = 'linear', probability = True))\n",
        "mlpc_fit = ensemble_fit(MLPClassifier(hidden_layer_sizes=(3,3), max_iter=30, tol = 1e-1,early_stopping=True))\n",
        "dt_fit = ensemble_fit(DecisionTreeClassifier(max_depth = 5, max_features=5))\n",
        "\n",
        "\n",
        "\n",
        " "
      ],
      "metadata": {
        "id": "kwNDp7y_Dha4"
      },
      "execution_count": 72,
      "outputs": []
    },
    {
      "cell_type": "markdown",
      "source": [
        "** Question: 4 **\n",
        "## Predict function for ensemble classifiers ##"
      ],
      "metadata": {
        "id": "Zd_OPu_e5pka"
      }
    },
    {
      "cell_type": "code",
      "source": [
        "def ensemble_predict(bag):\n",
        "\n",
        "    df7 = df.sample(n=None, frac=0.25, replace=False, weights=None, random_state=None, axis=None, ignore_index=False)\n",
        "\n",
        "    # Prepare the input X and y\n",
        "    dfX = df7.loc[:, df.columns != 'class']\n",
        "    dfy = df7.loc[:, df.columns == 'class'].values.ravel()\n",
        "\n",
        "\n",
        "\n",
        "    # Set our main data structures X and y\n",
        "    X = dfX.values\n",
        "    y = dfy\n",
        "\n",
        "    X_train, X_test, y_train, y_test =\\\n",
        "                train_test_split(X, y, \n",
        "                                test_size=0.2, \n",
        "                                random_state=1,\n",
        "                                stratify=y)\n",
        "    y_train_pred = bag.predict(X_train)\n",
        "    y_test_pred = bag.predict(X_test)\n",
        "\n",
        "    bag_train = accuracy_score(y_train, y_train_pred) \n",
        "    bag_test = accuracy_score(y_test, y_test_pred) \n",
        "    return ('%.3f' % (bag_test))\n",
        "\n",
        "print(f'accuracy of ensemble of gaussian naive bayes is: {ensemble_predict(nb_fit)}')\n",
        "print(f'accuracy of ensemble of SVC is: {ensemble_predict(svc_fit)}')\n",
        "print(f'accuracy of ensemble of MLPC is: {ensemble_predict(mlpc_fit)}')\n",
        "print(f'accuracy of ensemble of Decision Tree is: {ensemble_predict(dt_fit)}')"
      ],
      "metadata": {
        "colab": {
          "base_uri": "https://localhost:8080/"
        },
        "id": "ANm9ZN1Ldu90",
        "outputId": "61ae0511-3824-4d2b-e545-e25acfa47ed6"
      },
      "execution_count": 76,
      "outputs": [
        {
          "output_type": "stream",
          "name": "stdout",
          "text": [
            "accuracy of ensemble of gaussian naive bayes is: 0.914\n",
            "accuracy of ensemble of SVC is: 0.511\n",
            "accuracy of ensemble of MLPC is: 0.968\n",
            "accuracy of ensemble of Decision Tree is: 0.988\n"
          ]
        }
      ]
    },
    {
      "cell_type": "markdown",
      "source": [
        "** Question: 5**\n",
        "## Performance of ensembles with Subsampling##"
      ],
      "metadata": {
        "id": "fIC5-lIfdkJJ"
      }
    },
    {
      "cell_type": "code",
      "source": [
        "ratios = [0.0005, 0.001, 0.005, 0.01, 0.03, 0.05, 0.1]\n",
        "\n",
        "from sklearn.model_selection import cross_val_score\n",
        "def performance(clf,r):\n",
        "\n",
        "  \n",
        "  X_train, X_test, y_train, y_test = train_test_split(X, y, test_size=0.2, random_state=1,stratify=y)\n",
        "  \n",
        "  bag = BaggingClassifier(base_estimator=clf,\n",
        "                        n_estimators=500, \n",
        "                        max_samples=r, \n",
        "                        max_features=1.0, \n",
        "                        bootstrap=True, \n",
        "                        bootstrap_features=False, \n",
        "                        n_jobs=1, \n",
        "                        random_state=1)\n",
        "  \n",
        "  score = cross_val_score(estimator=bag,\n",
        "                         X=X_train,\n",
        "                         y=y_train,\n",
        "                         cv=10,\n",
        "                         n_jobs=1)\n",
        "  mean_score = np.mean(score)\n",
        "  return mean_score\n"
      ],
      "metadata": {
        "id": "zKTQ7kD16aPP"
      },
      "execution_count": 121,
      "outputs": []
    },
    {
      "cell_type": "code",
      "source": [
        "# performace of all ensemble classifier with subsampling ration of 0.01\n",
        "print(performance(DecisionTreeClassifier(max_depth = 5, max_features=5), 0.1))\n",
        "print(performance(MLPClassifier(hidden_layer_sizes=(3,3), max_iter=30, tol = 1e-1,early_stopping=True), 0.1))\n",
        "print(performance(SVC(tol=10, kernel = 'linear', probability = True), 0.1))\n",
        "print(performance(GaussianNB(), 0.1))"
      ],
      "metadata": {
        "colab": {
          "base_uri": "https://localhost:8080/"
        },
        "id": "mJ85tjpf6Erk",
        "outputId": "a8c7df10-282e-4de1-ad46-719741bcbee3"
      },
      "execution_count": 122,
      "outputs": [
        {
          "output_type": "stream",
          "name": "stdout",
          "text": [
            "0.9802923577974703\n",
            "0.8811444368704082\n",
            "0.5153942285844126\n",
            "0.9224077861092177\n"
          ]
        }
      ]
    },
    {
      "cell_type": "code",
      "source": [
        "# performace of all ensemble classifier with subsampling ration of 0.001\n",
        "print(performance(DecisionTreeClassifier(max_depth = 5, max_features=5), 0.001))\n",
        "#print(performance(MLPClassifier(hidden_layer_sizes=(3,3), max_iter=30, tol = 1e-1,early_stopping=True), 0.001))\n",
        "#print(performance(SVC(tol=10, kernel = 'linear', probability = True), 0.001))\n",
        "print(performance(GaussianNB(), 0.001))"
      ],
      "metadata": {
        "colab": {
          "base_uri": "https://localhost:8080/"
        },
        "id": "CPCxuX7p6pzB",
        "outputId": "61168fd8-074d-4cf3-ea75-a6665795a607"
      },
      "execution_count": 125,
      "outputs": [
        {
          "output_type": "stream",
          "name": "stdout",
          "text": [
            "0.511690524880709\n",
            "0.511690524880709\n"
          ]
        }
      ]
    },
    {
      "cell_type": "markdown",
      "source": [
        "When comparing, performances at ratio 0.001, decision tree and naive bayes have the same accuracy. I couldnt get MLPC and SVC to work at this ratio.\n",
        "\n",
        "Whereas at ratio 0.1, all four classifiers worked. Decision Tree was the best followed by naive bayes."
      ],
      "metadata": {
        "id": "1JWkX8GN8LvJ"
      }
    },
    {
      "cell_type": "markdown",
      "source": [
        "** Question: 6 **\n",
        "## Reports and Plots ##"
      ],
      "metadata": {
        "id": "GJzPWel_hmX9"
      }
    },
    {
      "cell_type": "code",
      "source": [
        "# naive bayes performances\n",
        "nb_perf = []\n",
        "for r in ratios:\n",
        "  score = performance(GaussianNB(), r)\n",
        "  nb_perf.append(score)\n",
        "\n",
        "print(nb_perf)\n"
      ],
      "metadata": {
        "colab": {
          "base_uri": "https://localhost:8080/"
        },
        "id": "ffwinoExuTgF",
        "outputId": "c43656b7-3470-480f-e1a8-c196701f180c"
      },
      "execution_count": 102,
      "outputs": [
        {
          "output_type": "stream",
          "name": "stdout",
          "text": [
            "[0.5153942285844126, 0.511690524880709, 0.9045595697947437, 0.9297962584261154, 0.9587328637430887, 0.9667386200106037, 0.9224077861092177]\n"
          ]
        }
      ]
    },
    {
      "cell_type": "code",
      "source": [
        "# SVC performances at various subsample ratios\n",
        "svc_perf = []\n",
        "for r in [0.01, 0.03, 0.05, 0.1]:\n",
        "  score = performance(SVC(tol=10, kernel = 'linear', probability = True), r)\n",
        "  svc_perf.append(score)\n",
        "\n",
        "print(svc_perf)"
      ],
      "metadata": {
        "colab": {
          "base_uri": "https://localhost:8080/"
        },
        "id": "lqEy5SkCyez7",
        "outputId": "e14804d2-f54c-48f4-8ae8-9a0f07e3f985"
      },
      "execution_count": 114,
      "outputs": [
        {
          "output_type": "stream",
          "name": "stdout",
          "text": [
            "[0.5153942285844126, 0.5153942285844126, 0.5153942285844126, 0.5153942285844126]\n"
          ]
        }
      ]
    },
    {
      "cell_type": "code",
      "source": [
        "# MLPC performances at various subsample ratios\n",
        "mlpc_perf = []\n",
        "for r in [0.01, 0.03, 0.05, 0.1]:\n",
        "  score = performance(MLPClassifier(hidden_layer_sizes=(3,3), max_iter=30, tol = 1e-1,early_stopping=True), r)\n",
        "  mlpc_perf.append(score)\n",
        "\n",
        "print(nb_perf)"
      ],
      "metadata": {
        "colab": {
          "base_uri": "https://localhost:8080/"
        },
        "id": "0sh2-1teyu_V",
        "outputId": "c804031b-d6a1-4fa9-d12e-07b9b986905d"
      },
      "execution_count": 113,
      "outputs": [
        {
          "output_type": "stream",
          "name": "stdout",
          "text": [
            "[0.5153942285844126, 0.511690524880709, 0.9045595697947437, 0.9297962584261154, 0.9587328637430887, 0.9667386200106037, 0.9224077861092177]\n"
          ]
        }
      ]
    },
    {
      "cell_type": "code",
      "source": [
        "# Decision Tree performances at various subsample ratios\n",
        "dt_perf = []\n",
        "for r in ratios:\n",
        "  score = performance(DecisionTreeClassifier(max_depth = 5, max_features=5), r)\n",
        "  dt_perf.append(score)\n",
        "\n",
        "print(dt_perf)"
      ],
      "metadata": {
        "colab": {
          "base_uri": "https://localhost:8080/"
        },
        "id": "e3uGCy1hzFCN",
        "outputId": "a340fe03-42dd-4935-ffb9-94762c1bd949"
      },
      "execution_count": 105,
      "outputs": [
        {
          "output_type": "stream",
          "name": "stdout",
          "text": [
            "[0.5153942285844126, 0.511690524880709, 0.8965273044005151, 0.9211770052260849, 0.9581307278648794, 0.9716844656517457, 0.9802923577974703]\n"
          ]
        }
      ]
    },
    {
      "cell_type": "code",
      "source": [
        "ratios_2 = [0.01, 0.03, 0.05, 0.1]\n",
        "# Plot\n",
        "plt.plot(ratios, dt_perf, label='Decision Tree')\n",
        "plt.plot(ratios, nb_perf, label='Gaussian NB')\n",
        "plt.plot(ratios_2, mlpc_perf, label='MLPC')\n",
        "plt.plot(ratios_2, svc_perf, label='SVC')\n",
        "\n",
        "\n",
        "plt.xlabel('Ratios')\n",
        "plt.ylabel('Accuracy')\n",
        "plt.legend(loc='lower right')\n",
        "plt.grid()\n",
        "plt.show()"
      ],
      "metadata": {
        "colab": {
          "base_uri": "https://localhost:8080/",
          "height": 287
        },
        "id": "_ZjANux60kGV",
        "outputId": "c4e8571e-bc60-4c3f-aa71-a258dc0b1534"
      },
      "execution_count": 120,
      "outputs": [
        {
          "output_type": "display_data",
          "data": {
            "text/plain": [
              "<Figure size 432x288 with 1 Axes>"
            ],
            "image/png": "[encoded data removed]"
          },
          "metadata": {}
        }
      ]
    },
    {
      "cell_type": "markdown",
      "source": [
        "** Observations **\n",
        "1) MLPC and SVC were giving errors at smaller ratios to had calculatre their performances only at 0.01, 0.03, 0.05, 0.1\n",
        "\n",
        "2) Decision Tree's performance increases with increase in ratios and is 98% at 0.1. Also, it was the best performer\n",
        "\n",
        "3) Performace of Gaussian Naive increases and then decreases with ratios. It is best at 0.05 at ~96%\n",
        "\n",
        "4) The max performace of MLPC is at 0.1 subsampling ratio with accuracy close to 90%\n",
        "\n",
        "5) SVC is worst with its performace hovering around 50% for all ratios"
      ],
      "metadata": {
        "id": "jBis-kbF3NL5"
      }
    }
  ]
}