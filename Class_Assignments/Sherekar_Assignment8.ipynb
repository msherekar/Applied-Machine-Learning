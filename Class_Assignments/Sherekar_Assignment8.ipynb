{
  "nbformat": 4,
  "nbformat_minor": 0,
  "metadata": {
    "colab": {
      "provenance": []
    },
    "kernelspec": {
      "name": "python3",
      "display_name": "Python 3"
    },
    "language_info": {
      "name": "python"
    }
  },
  "cells": [
    {
      "cell_type": "code",
      "execution_count": 192,
      "metadata": {
        "id": "a8hFw1flM2aL"
      },
      "outputs": [],
      "source": [
        "#******************* DOWNLOADING ALL THE LIBRARIES AND PACKAGES **************************"
      ]
    },
    {
      "cell_type": "code",
      "source": [
        "#Following avoids a warning for KMeans\n",
        "%env OMP_NUM_THREADS=2\n",
        "\n",
        "import warnings\n",
        "warnings.filterwarnings('ignore')\n",
        "\n",
        "# Standard libraries we always include\n",
        "%matplotlib inline\n",
        "import matplotlib.pyplot as plt\n",
        "from IPython.display import display\n",
        "import numpy as np\n",
        "import pandas as pd\n",
        "import seaborn as sns; sns.set(style=\"ticks\", color_codes=True)\n"
      ],
      "metadata": {
        "colab": {
          "base_uri": "https://localhost:8080/"
        },
        "id": "Pnygev4X6MeT",
        "outputId": "925c252b-2b5f-4e51-9fde-a4968a8dbcbb"
      },
      "execution_count": 193,
      "outputs": [
        {
          "output_type": "stream",
          "name": "stdout",
          "text": [
            "env: OMP_NUM_THREADS=2\n"
          ]
        }
      ]
    },
    {
      "cell_type": "code",
      "source": [
        "#****************** UPLOADING RELEVANT FILES *****************\n",
        "import io\n",
        "from google.colab import files\n",
        "\n",
        "uploaded_1 = files.upload()\n",
        "\n",
        "df1 = pd.read_csv(io.BytesIO(uploaded_1['clustering_synthetic_dataset.csv']))\n",
        "\n",
        "# data check\n",
        "df1.head()\n",
        "print(f'shape of orginal data set is {df1.shape}')"
      ],
      "metadata": {
        "colab": {
          "base_uri": "https://localhost:8080/",
          "height": 95
        },
        "id": "Tl_peBEdFlXr",
        "outputId": "8f1cdd74-441b-4111-900a-91603663d752"
      },
      "execution_count": 194,
      "outputs": [
        {
          "output_type": "display_data",
          "data": {
            "text/plain": [
              "<IPython.core.display.HTML object>"
            ],
            "text/html": [
              "\n",
              "     <input type=\"file\" id=\"files-c60525bc-3678-436f-b31e-0954557a13b8\" name=\"files[]\" multiple disabled\n",
              "        style=\"border:none\" />\n",
              "     <output id=\"result-c60525bc-3678-436f-b31e-0954557a13b8\">\n",
              "      Upload widget is only available when the cell has been executed in the\n",
              "      current browser session. Please rerun this cell to enable.\n",
              "      </output>\n",
              "      <script>// Copyright 2017 Google LLC\n",
              "//\n",
              "// Licensed under the Apache License, Version 2.0 (the \"License\");\n",
              "// you may not use this file except in compliance with the License.\n",
              "// You may obtain a copy of the License at\n",
              "//\n",
              "//      http://www.apache.org/licenses/LICENSE-2.0\n",
              "//\n",
              "// Unless required by applicable law or agreed to in writing, software\n",
              "// distributed under the License is distributed on an \"AS IS\" BASIS,\n",
              "// WITHOUT WARRANTIES OR CONDITIONS OF ANY KIND, either express or implied.\n",
              "// See the License for the specific language governing permissions and\n",
              "// limitations under the License.\n",
              "\n",
              "/**\n",
              " * @fileoverview Helpers for google.colab Python module.\n",
              " */\n",
              "(function(scope) {\n",
              "function span(text, styleAttributes = {}) {\n",
              "  const element = document.createElement('span');\n",
              "  element.textContent = text;\n",
              "  for (const key of Object.keys(styleAttributes)) {\n",
              "    element.style[key] = styleAttributes[key];\n",
              "  }\n",
              "  return element;\n",
              "}\n",
              "\n",
              "// Max number of bytes which will be uploaded at a time.\n",
              "const MAX_PAYLOAD_SIZE = 100 * 1024;\n",
              "\n",
              "function _uploadFiles(inputId, outputId) {\n",
              "  const steps = uploadFilesStep(inputId, outputId);\n",
              "  const outputElement = document.getElementById(outputId);\n",
              "  // Cache steps on the outputElement to make it available for the next call\n",
              "  // to uploadFilesContinue from Python.\n",
              "  outputElement.steps = steps;\n",
              "\n",
              "  return _uploadFilesContinue(outputId);\n",
              "}\n",
              "\n",
              "// This is roughly an async generator (not supported in the browser yet),\n",
              "// where there are multiple asynchronous steps and the Python side is going\n",
              "// to poll for completion of each step.\n",
              "// This uses a Promise to block the python side on completion of each step,\n",
              "// then passes the result of the previous step as the input to the next step.\n",
              "function _uploadFilesContinue(outputId) {\n",
              "  const outputElement = document.getElementById(outputId);\n",
              "  const steps = outputElement.steps;\n",
              "\n",
              "  const next = steps.next(outputElement.lastPromiseValue);\n",
              "  return Promise.resolve(next.value.promise).then((value) => {\n",
              "    // Cache the last promise value to make it available to the next\n",
              "    // step of the generator.\n",
              "    outputElement.lastPromiseValue = value;\n",
              "    return next.value.response;\n",
              "  });\n",
              "}\n",
              "\n",
              "/**\n",
              " * Generator function which is called between each async step of the upload\n",
              " * process.\n",
              " * @param {string} inputId Element ID of the input file picker element.\n",
              " * @param {string} outputId Element ID of the output display.\n",
              " * @return {!Iterable<!Object>} Iterable of next steps.\n",
              " */\n",
              "function* uploadFilesStep(inputId, outputId) {\n",
              "  const inputElement = document.getElementById(inputId);\n",
              "  inputElement.disabled = false;\n",
              "\n",
              "  const outputElement = document.getElementById(outputId);\n",
              "  outputElement.innerHTML = '';\n",
              "\n",
              "  const pickedPromise = new Promise((resolve) => {\n",
              "    inputElement.addEventListener('change', (e) => {\n",
              "      resolve(e.target.files);\n",
              "    });\n",
              "  });\n",
              "\n",
              "  const cancel = document.createElement('button');\n",
              "  inputElement.parentElement.appendChild(cancel);\n",
              "  cancel.textContent = 'Cancel upload';\n",
              "  const cancelPromise = new Promise((resolve) => {\n",
              "    cancel.onclick = () => {\n",
              "      resolve(null);\n",
              "    };\n",
              "  });\n",
              "\n",
              "  // Wait for the user to pick the files.\n",
              "  const files = yield {\n",
              "    promise: Promise.race([pickedPromise, cancelPromise]),\n",
              "    response: {\n",
              "      action: 'starting',\n",
              "    }\n",
              "  };\n",
              "\n",
              "  cancel.remove();\n",
              "\n",
              "  // Disable the input element since further picks are not allowed.\n",
              "  inputElement.disabled = true;\n",
              "\n",
              "  if (!files) {\n",
              "    return {\n",
              "      response: {\n",
              "        action: 'complete',\n",
              "      }\n",
              "    };\n",
              "  }\n",
              "\n",
              "  for (const file of files) {\n",
              "    const li = document.createElement('li');\n",
              "    li.append(span(file.name, {fontWeight: 'bold'}));\n",
              "    li.append(span(\n",
              "        `(${file.type || 'n/a'}) - ${file.size} bytes, ` +\n",
              "        `last modified: ${\n",
              "            file.lastModifiedDate ? file.lastModifiedDate.toLocaleDateString() :\n",
              "                                    'n/a'} - `));\n",
              "    const percent = span('0% done');\n",
              "    li.appendChild(percent);\n",
              "\n",
              "    outputElement.appendChild(li);\n",
              "\n",
              "    const fileDataPromise = new Promise((resolve) => {\n",
              "      const reader = new FileReader();\n",
              "      reader.onload = (e) => {\n",
              "        resolve(e.target.result);\n",
              "      };\n",
              "      reader.readAsArrayBuffer(file);\n",
              "    });\n",
              "    // Wait for the data to be ready.\n",
              "    let fileData = yield {\n",
              "      promise: fileDataPromise,\n",
              "      response: {\n",
              "        action: 'continue',\n",
              "      }\n",
              "    };\n",
              "\n",
              "    // Use a chunked sending to avoid message size limits. See b/62115660.\n",
              "    let position = 0;\n",
              "    do {\n",
              "      const length = Math.min(fileData.byteLength - position, MAX_PAYLOAD_SIZE);\n",
              "      const chunk = new Uint8Array(fileData, position, length);\n",
              "      position += length;\n",
              "\n",
              "      const base64 = btoa(String.fromCharCode.apply(null, chunk));\n",
              "      yield {\n",
              "        response: {\n",
              "          action: 'append',\n",
              "          file: file.name,\n",
              "          data: base64,\n",
              "        },\n",
              "      };\n",
              "\n",
              "      let percentDone = fileData.byteLength === 0 ?\n",
              "          100 :\n",
              "          Math.round((position / fileData.byteLength) * 100);\n",
              "      percent.textContent = `${percentDone}% done`;\n",
              "\n",
              "    } while (position < fileData.byteLength);\n",
              "  }\n",
              "\n",
              "  // All done.\n",
              "  yield {\n",
              "    response: {\n",
              "      action: 'complete',\n",
              "    }\n",
              "  };\n",
              "}\n",
              "\n",
              "scope.google = scope.google || {};\n",
              "scope.google.colab = scope.google.colab || {};\n",
              "scope.google.colab._files = {\n",
              "  _uploadFiles,\n",
              "  _uploadFilesContinue,\n",
              "};\n",
              "})(self);\n",
              "</script> "
            ]
          },
          "metadata": {}
        },
        {
          "output_type": "stream",
          "name": "stdout",
          "text": [
            "Saving clustering_synthetic_dataset.csv to clustering_synthetic_dataset (2).csv\n",
            "shape of orginal data set is (750, 2)\n"
          ]
        }
      ]
    },
    {
      "cell_type": "code",
      "source": [
        "# data check\n",
        "df1.head()"
      ],
      "metadata": {
        "colab": {
          "base_uri": "https://localhost:8080/",
          "height": 206
        },
        "id": "Uso2QVXkLjrU",
        "outputId": "46d064e3-00f3-4c2e-a7b6-6ec3f70b85ca"
      },
      "execution_count": 195,
      "outputs": [
        {
          "output_type": "execute_result",
          "data": {
            "text/plain": [
              "         f1        f2\n",
              "0  0.494261  1.451067\n",
              "1 -1.428081 -0.837064\n",
              "2  0.338559  1.038759\n",
              "3  0.119001 -1.053976\n",
              "4  1.122425  1.774937"
            ],
            "text/html": [
              "\n",
              "  <div id=\"df-35c63c04-caf2-45ee-95ec-e1a30e83de4b\">\n",
              "    <div class=\"colab-df-container\">\n",
              "      <div>\n",
              "<style scoped>\n",
              "    .dataframe tbody tr th:only-of-type {\n",
              "        vertical-align: middle;\n",
              "    }\n",
              "\n",
              "    .dataframe tbody tr th {\n",
              "        vertical-align: top;\n",
              "    }\n",
              "\n",
              "    .dataframe thead th {\n",
              "        text-align: right;\n",
              "    }\n",
              "</style>\n",
              "<table border=\"1\" class=\"dataframe\">\n",
              "  <thead>\n",
              "    <tr style=\"text-align: right;\">\n",
              "      <th></th>\n",
              "      <th>f1</th>\n",
              "      <th>f2</th>\n",
              "    </tr>\n",
              "  </thead>\n",
              "  <tbody>\n",
              "    <tr>\n",
              "      <th>0</th>\n",
              "      <td>0.494261</td>\n",
              "      <td>1.451067</td>\n",
              "    </tr>\n",
              "    <tr>\n",
              "      <th>1</th>\n",
              "      <td>-1.428081</td>\n",
              "      <td>-0.837064</td>\n",
              "    </tr>\n",
              "    <tr>\n",
              "      <th>2</th>\n",
              "      <td>0.338559</td>\n",
              "      <td>1.038759</td>\n",
              "    </tr>\n",
              "    <tr>\n",
              "      <th>3</th>\n",
              "      <td>0.119001</td>\n",
              "      <td>-1.053976</td>\n",
              "    </tr>\n",
              "    <tr>\n",
              "      <th>4</th>\n",
              "      <td>1.122425</td>\n",
              "      <td>1.774937</td>\n",
              "    </tr>\n",
              "  </tbody>\n",
              "</table>\n",
              "</div>\n",
              "      <button class=\"colab-df-convert\" onclick=\"convertToInteractive('df-35c63c04-caf2-45ee-95ec-e1a30e83de4b')\"\n",
              "              title=\"Convert this dataframe to an interactive table.\"\n",
              "              style=\"display:none;\">\n",
              "        \n",
              "  <svg xmlns=\"http://www.w3.org/2000/svg\" height=\"24px\"viewBox=\"0 0 24 24\"\n",
              "       width=\"24px\">\n",
              "    <path d=\"M0 0h24v24H0V0z\" fill=\"none\"/>\n",
              "    <path d=\"M18.56 5.44l.94 2.06.94-2.06 2.06-.94-2.06-.94-.94-2.06-.94 2.06-2.06.94zm-11 1L8.5 8.5l.94-2.06 2.06-.94-2.06-.94L8.5 2.5l-.94 2.06-2.06.94zm10 10l.94 2.06.94-2.06 2.06-.94-2.06-.94-.94-2.06-.94 2.06-2.06.94z\"/><path d=\"M17.41 7.96l-1.37-1.37c-.4-.4-.92-.59-1.43-.59-.52 0-1.04.2-1.43.59L10.3 9.45l-7.72 7.72c-.78.78-.78 2.05 0 2.83L4 21.41c.39.39.9.59 1.41.59.51 0 1.02-.2 1.41-.59l7.78-7.78 2.81-2.81c.8-.78.8-2.07 0-2.86zM5.41 20L4 18.59l7.72-7.72 1.47 1.35L5.41 20z\"/>\n",
              "  </svg>\n",
              "      </button>\n",
              "      \n",
              "  <style>\n",
              "    .colab-df-container {\n",
              "      display:flex;\n",
              "      flex-wrap:wrap;\n",
              "      gap: 12px;\n",
              "    }\n",
              "\n",
              "    .colab-df-convert {\n",
              "      background-color: #E8F0FE;\n",
              "      border: none;\n",
              "      border-radius: 50%;\n",
              "      cursor: pointer;\n",
              "      display: none;\n",
              "      fill: #1967D2;\n",
              "      height: 32px;\n",
              "      padding: 0 0 0 0;\n",
              "      width: 32px;\n",
              "    }\n",
              "\n",
              "    .colab-df-convert:hover {\n",
              "      background-color: #E2EBFA;\n",
              "      box-shadow: 0px 1px 2px rgba(60, 64, 67, 0.3), 0px 1px 3px 1px rgba(60, 64, 67, 0.15);\n",
              "      fill: #174EA6;\n",
              "    }\n",
              "\n",
              "    [theme=dark] .colab-df-convert {\n",
              "      background-color: #3B4455;\n",
              "      fill: #D2E3FC;\n",
              "    }\n",
              "\n",
              "    [theme=dark] .colab-df-convert:hover {\n",
              "      background-color: #434B5C;\n",
              "      box-shadow: 0px 1px 3px 1px rgba(0, 0, 0, 0.15);\n",
              "      filter: drop-shadow(0px 1px 2px rgba(0, 0, 0, 0.3));\n",
              "      fill: #FFFFFF;\n",
              "    }\n",
              "  </style>\n",
              "\n",
              "      <script>\n",
              "        const buttonEl =\n",
              "          document.querySelector('#df-35c63c04-caf2-45ee-95ec-e1a30e83de4b button.colab-df-convert');\n",
              "        buttonEl.style.display =\n",
              "          google.colab.kernel.accessAllowed ? 'block' : 'none';\n",
              "\n",
              "        async function convertToInteractive(key) {\n",
              "          const element = document.querySelector('#df-35c63c04-caf2-45ee-95ec-e1a30e83de4b');\n",
              "          const dataTable =\n",
              "            await google.colab.kernel.invokeFunction('convertToInteractive',\n",
              "                                                     [key], {});\n",
              "          if (!dataTable) return;\n",
              "\n",
              "          const docLinkHtml = 'Like what you see? Visit the ' +\n",
              "            '<a target=\"_blank\" href=https://colab.research.google.com/notebooks/data_table.ipynb>data table notebook</a>'\n",
              "            + ' to learn more about interactive tables.';\n",
              "          element.innerHTML = '';\n",
              "          dataTable['output_type'] = 'display_data';\n",
              "          await google.colab.output.renderOutput(dataTable, element);\n",
              "          const docLink = document.createElement('div');\n",
              "          docLink.innerHTML = docLinkHtml;\n",
              "          element.appendChild(docLink);\n",
              "        }\n",
              "      </script>\n",
              "    </div>\n",
              "  </div>\n",
              "  "
            ]
          },
          "metadata": {},
          "execution_count": 195
        }
      ]
    },
    {
      "cell_type": "code",
      "source": [
        "# *********************************SETTING UP X & Y ********************************************************\n",
        "\n",
        "df1X = df1.loc[:, df1.columns]\n",
        "\n",
        "# Set our main data structures X and y\n",
        "X = df1X.values\n"
      ],
      "metadata": {
        "id": "iK8STUWBOL5V"
      },
      "execution_count": 196,
      "outputs": []
    },
    {
      "cell_type": "code",
      "source": [
        "# **************** PRE-PROCESSING ************************"
      ],
      "metadata": {
        "id": "5P24BEuQh4jO"
      },
      "execution_count": 197,
      "outputs": []
    },
    {
      "cell_type": "code",
      "source": [
        "from sklearn.preprocessing import StandardScaler\n",
        "scaler = StandardScaler()\n",
        "scaled_X = scaler.fit_transform(X)"
      ],
      "metadata": {
        "id": "FvbRCZdhh2P1"
      },
      "execution_count": 198,
      "outputs": []
    },
    {
      "cell_type": "markdown",
      "source": [
        "**Question: 1**\n",
        "Number of species in the dataset"
      ],
      "metadata": {
        "id": "81zNt8N3Oeiy"
      }
    },
    {
      "cell_type": "code",
      "source": [
        "# ************ USING THE ELBLOW METHOD TO FIND NUMBER OF CLUSTERS ***************"
      ],
      "metadata": {
        "id": "FTlyRzZgVyEj"
      },
      "execution_count": 199,
      "outputs": []
    },
    {
      "cell_type": "code",
      "source": [
        "from sklearn.cluster import KMeans\n",
        "\n",
        "distortions = []\n",
        "for i in range(1, 11):\n",
        "    km = KMeans(n_clusters=i, \n",
        "                init='k-means++', \n",
        "                n_init=10, \n",
        "                max_iter=300, \n",
        "                random_state=0)\n",
        "    km.fit(scaled_X)\n",
        "    distortions.append(km.inertia_)\n",
        "plt.plot(range(1, 11), distortions, marker='o')\n",
        "plt.xlabel('Number of clusters')\n",
        "plt.ylabel('Distortion')\n",
        "plt.tight_layout()\n",
        "#plt.savefig('images/11_03.png', dpi=300)\n",
        "plt.show()\n"
      ],
      "metadata": {
        "colab": {
          "base_uri": "https://localhost:8080/",
          "height": 293
        },
        "id": "UCwgiJQMVrK0",
        "outputId": "abf09aa7-8998-4935-e82c-e2fa5f2c5713"
      },
      "execution_count": 200,
      "outputs": [
        {
          "output_type": "display_data",
          "data": {
            "text/plain": [
              "<Figure size 432x288 with 1 Axes>"
            ],
            "image/png": "[encoded data removed]"
          },
          "metadata": {}
        }
      ]
    },
    {
      "cell_type": "code",
      "source": [
        "#**************Quantifying the quality of clustering via silhouette plots***********\n",
        "\n",
        "from sklearn.metrics import silhouette_samples\n",
        "from matplotlib import cm\n",
        "\n",
        "km = KMeans(n_clusters=3, \n",
        "            init='k-means++', \n",
        "            n_init=10, \n",
        "            max_iter=300,\n",
        "            tol=1e-04,\n",
        "            random_state=0)\n",
        "y_km = km.fit_predict(scaled_X)\n",
        "\n",
        "cluster_labels = np.unique(y_km)\n",
        "n_clusters = cluster_labels.shape[0]\n",
        "silhouette_vals = silhouette_samples(X, y_km, metric='euclidean')\n",
        "y_ax_lower, y_ax_upper = 0, 0\n",
        "yticks = []\n",
        "for i, c in enumerate(cluster_labels):\n",
        "    c_silhouette_vals = silhouette_vals[y_km == c]\n",
        "    c_silhouette_vals.sort()\n",
        "    y_ax_upper += len(c_silhouette_vals)\n",
        "    color = cm.jet(float(i) / n_clusters)\n",
        "    plt.barh(range(y_ax_lower, y_ax_upper), c_silhouette_vals, height=1.0, \n",
        "             edgecolor='none', color=color)\n",
        "\n",
        "    yticks.append((y_ax_lower + y_ax_upper) / 2.)\n",
        "    y_ax_lower += len(c_silhouette_vals)\n",
        "    \n",
        "silhouette_avg = np.mean(silhouette_vals)\n",
        "plt.axvline(silhouette_avg, color=\"red\", linestyle=\"--\") \n",
        "\n",
        "plt.yticks(yticks, cluster_labels + 1)\n",
        "plt.ylabel('Cluster')\n",
        "plt.xlabel('Silhouette coefficient')\n",
        "\n",
        "plt.tight_layout()\n",
        "#plt.savefig('images/11_04.png', dpi=300)\n",
        "plt.show()\n"
      ],
      "metadata": {
        "colab": {
          "base_uri": "https://localhost:8080/",
          "height": 293
        },
        "id": "KNNu9BnqWFfJ",
        "outputId": "44d98303-c5ef-45f1-9515-b14e32398098"
      },
      "execution_count": 201,
      "outputs": [
        {
          "output_type": "display_data",
          "data": {
            "text/plain": [
              "<Figure size 432x288 with 1 Axes>"
            ],
            "image/png": "[encoded data removed]"
          },
          "metadata": {}
        }
      ]
    },
    {
      "cell_type": "code",
      "source": [
        "#**************Quantifying the quality of clustering via silhouette plots***********\n",
        "\n",
        "from sklearn.metrics import silhouette_samples\n",
        "from matplotlib import cm\n",
        "\n",
        "km6 = KMeans(n_clusters=6, \n",
        "            init='k-means++', \n",
        "            n_init=10, \n",
        "            max_iter=300,\n",
        "            tol=1e-04,\n",
        "            random_state=0)\n",
        "y_km6 = km6.fit_predict(scaled_X)\n",
        "\n",
        "cluster_labels = np.unique(y_km6)\n",
        "n_clusters = cluster_labels.shape[0]\n",
        "silhouette_vals = silhouette_samples(X, y_km6, metric='euclidean')\n",
        "y_ax_lower, y_ax_upper = 0, 0\n",
        "yticks = []\n",
        "for i, c in enumerate(cluster_labels):\n",
        "    c_silhouette_vals = silhouette_vals[y_km6 == c]\n",
        "    c_silhouette_vals.sort()\n",
        "    y_ax_upper += len(c_silhouette_vals)\n",
        "    color = cm.jet(float(i) / n_clusters)\n",
        "    plt.barh(range(y_ax_lower, y_ax_upper), c_silhouette_vals, height=1.0, \n",
        "             edgecolor='none', color=color)\n",
        "\n",
        "    yticks.append((y_ax_lower + y_ax_upper) / 2.)\n",
        "    y_ax_lower += len(c_silhouette_vals)\n",
        "    \n",
        "silhouette_avg = np.mean(silhouette_vals)\n",
        "plt.axvline(silhouette_avg, color=\"red\", linestyle=\"--\") \n",
        "\n",
        "plt.yticks(yticks, cluster_labels + 1)\n",
        "plt.ylabel('Cluster')\n",
        "plt.xlabel('Silhouette coefficient')\n",
        "\n",
        "plt.tight_layout()\n",
        "#plt.savefig('images/11_04.png', dpi=300)\n",
        "plt.show()\n"
      ],
      "metadata": {
        "colab": {
          "base_uri": "https://localhost:8080/",
          "height": 293
        },
        "outputId": "eef4fb82-9083-44e3-9689-8a2d4e9a3da0",
        "id": "D55EX0kVWaQs"
      },
      "execution_count": 202,
      "outputs": [
        {
          "output_type": "display_data",
          "data": {
            "text/plain": [
              "<Figure size 432x288 with 1 Axes>"
            ],
            "image/png": "[encoded data removed]"
          },
          "metadata": {}
        }
      ]
    },
    {
      "cell_type": "markdown",
      "source": [
        "From the above two silhoutte graphs it is clear that 3 cluster have a higher score 0.65 while 6 clusters have a lower score of 0.33. Hence, results of elbow method are confirmed."
      ],
      "metadata": {
        "id": "OeTpXmMXZMLK"
      }
    },
    {
      "cell_type": "markdown",
      "source": [
        "** QUESTION: 2 **\n",
        "## Find the rough feature ranges to classify these species correctly ##"
      ],
      "metadata": {
        "id": "KHu6q5OWbD3Q"
      }
    },
    {
      "cell_type": "code",
      "source": [
        "import matplotlib.pyplot as plt\n",
        "\n",
        "plt.scatter(df1['f1'], df1['f2'], \n",
        "            c='white', marker='o', edgecolor='black', s=50)\n",
        "plt.grid()\n",
        "plt.tight_layout()\n",
        "#plt.savefig('images/11_01.png', dpi=300)\n",
        "plt.show()"
      ],
      "metadata": {
        "colab": {
          "base_uri": "https://localhost:8080/",
          "height": 293
        },
        "id": "bt6WyFxZVlcy",
        "outputId": "552bfc7b-8ad5-4df0-cfc6-3c748c387a15"
      },
      "execution_count": 203,
      "outputs": [
        {
          "output_type": "display_data",
          "data": {
            "text/plain": [
              "<Figure size 432x288 with 1 Axes>"
            ],
            "image/png": "[encoded data removed]"
          },
          "metadata": {}
        }
      ]
    },
    {
      "cell_type": "markdown",
      "source": [
        "From the straight up plot of two features, one can see there are three clusters. The left-bottom cluster has x-axis range of -2 to -0.2 and y-axis range of -2 to 0.5. The bottom right cluster has x-axis range of 0-2 and y-axis range of -1.5-0.0. The top cluster has x-axis range of 0-2 and y-axis range of 0.5-2"
      ],
      "metadata": {
        "id": "1fAsK5p1YNnA"
      }
    },
    {
      "cell_type": "markdown",
      "source": [
        "** QUESTION: 3 **\n",
        "## Finding anomalies by  K-means clustering"
      ],
      "metadata": {
        "id": "HsNUPNWdjkN_"
      }
    },
    {
      "cell_type": "code",
      "source": [
        "# setting up a new model with 3 clusters\n",
        "km = KMeans(n_clusters=3, \n",
        "            init='k-means++', \n",
        "            n_init=10, \n",
        "            max_iter=300,\n",
        "            tol=1e-04,\n",
        "            random_state=0)\n",
        "y_km = km.fit_predict(scaled_X)\n"
      ],
      "metadata": {
        "id": "nydorpbwsrLJ"
      },
      "execution_count": 204,
      "outputs": []
    },
    {
      "cell_type": "code",
      "source": [
        "plt.scatter(X[y_km == 0, 0],\n",
        "            X[y_km == 0, 1],\n",
        "            s=50, c='lightgreen',\n",
        "            marker='s', edgecolor='black',\n",
        "            label='Cluster 1')\n",
        "plt.scatter(X[y_km == 1, 0],\n",
        "            X[y_km == 1, 1],\n",
        "            s=50, c='orange',\n",
        "            marker='o', edgecolor='black',\n",
        "            label='Cluster 2')\n",
        "plt.scatter(X[y_km == 2, 0],\n",
        "            X[y_km == 2, 1],\n",
        "            s=50, c='lightblue',\n",
        "            marker='v', edgecolor='black',\n",
        "            label='Cluster 3')\n",
        "plt.scatter(km.cluster_centers_[:, 0],\n",
        "            km.cluster_centers_[:, 1],\n",
        "            s=250, marker='*',\n",
        "            c='red', edgecolor='black',\n",
        "            label='Centroids')\n",
        "plt.legend(scatterpoints=1)\n",
        "plt.grid()\n",
        "plt.tight_layout()\n",
        "#plt.savefig('images/11_02.png', dpi=300)\n",
        "plt.show()\n",
        "\n"
      ],
      "metadata": {
        "colab": {
          "base_uri": "https://localhost:8080/",
          "height": 293
        },
        "id": "lEokpCQA1X0B",
        "outputId": "0793cc0a-79a7-4c99-a1bb-d0236cf1fff5"
      },
      "execution_count": 205,
      "outputs": [
        {
          "output_type": "display_data",
          "data": {
            "text/plain": [
              "<Figure size 432x288 with 1 Axes>"
            ],
            "image/png": "[encoded data removed]"
          },
          "metadata": {}
        }
      ]
    },
    {
      "cell_type": "code",
      "source": [
        "# Steps to find points that are at farthest distance from each centroid\n",
        "\n",
        "# finding distance of each point from the three centroids\n",
        "# returns a 2D numpy array where each row represents distance of a point from \n",
        "# each centroid\n",
        "\n"
      ],
      "metadata": {
        "id": "faqyon681Zde"
      },
      "execution_count": 206,
      "outputs": []
    },
    {
      "cell_type": "code",
      "source": [
        "# distance of each point from each of the three centroids\n",
        "x_dist = km.transform(scaled_X)\n",
        "print(x_dist)"
      ],
      "metadata": {
        "colab": {
          "base_uri": "https://localhost:8080/"
        },
        "id": "ELYSHYUZZ7WK",
        "outputId": "c9c3a632-98ea-49e2-9805-cf5bede539f9"
      },
      "execution_count": 207,
      "outputs": [
        {
          "output_type": "stream",
          "name": "stdout",
          "text": [
            "[[2.77002819 0.18540951 2.10512711]\n",
            " [0.21940309 2.97429409 2.13225964]\n",
            " [2.35994651 0.39780045 1.72060428]\n",
            " ...\n",
            " [1.27080401 2.32797067 0.7978358 ]\n",
            " [0.70927162 2.20083736 1.98634327]\n",
            " [1.58890651 2.27235713 0.51612889]]\n"
          ]
        }
      ]
    },
    {
      "cell_type": "code",
      "source": [
        "# fidning co-ordinates of the three centroid\n",
        "\n",
        "center = km.cluster_centers_\n",
        "print(center)\n",
        "\n",
        "# labels\n",
        "labels = km.labels_"
      ],
      "metadata": {
        "colab": {
          "base_uri": "https://localhost:8080/"
        },
        "id": "FvZ8KMUwdVhB",
        "outputId": "aa1c303d-bb3e-4cf8-fe76-26e5896738c4"
      },
      "execution_count": 208,
      "outputs": [
        {
          "output_type": "stream",
          "name": "stdout",
          "text": [
            "[[-1.30266211 -0.65704205]\n",
            " [ 0.62260555  1.3172598 ]\n",
            " [ 0.6954587  -0.64442334]]\n"
          ]
        }
      ]
    },
    {
      "cell_type": "code",
      "source": [
        "# filtering points by their labels to identify points in each cluster\n",
        "# Then, calculating distance of each point from the centroid\n",
        "# Then, discarding far away points\n",
        "\n",
        "cluster_0 = X[km.labels_ == 0]\n",
        "cluster_1 = X[km.labels_ == 1]\n",
        "cluster_2 = X[km.labels_ == 2]\n",
        "print(len(cluster_0), len(cluster_1), len(cluster_2))\n",
        "\n",
        "clustdist_0 = x_dist[km.labels_ == 0]\n",
        "clustdist_2 = x_dist[km.labels_ == 1]\n",
        "clustdist_1 = x_dist[km.labels_ == 2]\n",
        "\n",
        "\n",
        "print(len(clustdist_0), len(clustdist_1), len(clustdist_2))"
      ],
      "metadata": {
        "id": "6ZMsMOQ-Z-Xr",
        "colab": {
          "base_uri": "https://localhost:8080/"
        },
        "outputId": "dcf06cb2-8844-45f8-8b2b-ab6f033a7cdc"
      },
      "execution_count": 209,
      "outputs": [
        {
          "output_type": "stream",
          "name": "stdout",
          "text": [
            "252 248 250\n",
            "252 250 248\n"
          ]
        }
      ]
    },
    {
      "cell_type": "code",
      "source": [
        "from scipy.spatial.distance import euclidean\n",
        "from numpy import sqrt, random, array, argsort\n",
        "\n",
        "# finding distance of each point in cluster-0 from its centroid\n",
        "\n",
        "d_centroid_0 = []\n",
        "for i in range(len(cluster_0)):\n",
        "  x_i = cluster_0[i][0] - center[0][0]\n",
        "  y_i = cluster_0[i][1] - center[0][1]\n",
        "  d_sq = (x_i * x_i) + (y_i * y_i)\n",
        "  d = sqrt(d_sq)\n",
        "  d_centroid_0.append(d)\n",
        "\n",
        "d_centroid_1 = []\n",
        "for i in range(len(cluster_1)):\n",
        "  x_i = cluster_1[i][0] - center[1][0]\n",
        "  y_i = cluster_1[i][1] - center[1][1]\n",
        "  d_sq = (x_i * x_i) + (y_i * y_i)\n",
        "  d = sqrt(d_sq)\n",
        "  d_centroid_1.append(d)\n",
        "\n",
        "d_centroid_2 = []\n",
        "for i in range(len(cluster_2)):\n",
        "  x_i = cluster_2[i][0] - center[2][0]\n",
        "  y_i = cluster_2[i][1] - center[2][1]\n",
        "  d_sq = (x_i * x_i) + (y_i * y_i)\n",
        "  d = sqrt(d_sq)\n",
        "  d_centroid_2.append(d)\n",
        "\n"
      ],
      "metadata": {
        "id": "pdaKZxp8c3pi"
      },
      "execution_count": 210,
      "outputs": []
    },
    {
      "cell_type": "code",
      "source": [
        "# zipping the co-ordinates and thier distances from centroid\n",
        "dist_0 = list(zip(cluster_0, d_centroid_0)) \n",
        "dist_1 = list(zip(cluster_1, d_centroid_1))\n",
        "dist_2 = list(zip(cluster_2, d_centroid_2))"
      ],
      "metadata": {
        "id": "idwK6O75eDPm"
      },
      "execution_count": 211,
      "outputs": []
    },
    {
      "cell_type": "code",
      "source": [
        "# sorting by distance\n",
        "\n",
        "sorted_dist_0 = sorted(dist_0, key = lambda x: x[1], reverse = True)\n",
        "sorted_dist_1 = sorted(dist_1, key = lambda x: x[1], reverse = True)\n",
        "sorted_dist_2 = sorted(dist_2, key = lambda x: x[1], reverse = True)\n",
        "\n",
        "\n",
        "# getting rid of points whose distance is more than 1 from respective centroid\n",
        "removed_0 = []\n",
        "for i in range(len(sorted_dist_0)):\n",
        "  if sorted_dist_0[i][1] > 1:\n",
        "    removed_0.append(sorted_dist_0[i])\n",
        "\n",
        "removed_1 = []\n",
        "for i in range(len(sorted_dist_1)):\n",
        "  if sorted_dist_1[i][1] > 1:\n",
        "    removed_1.append(sorted_dist_1[i])\n",
        "\n",
        "removed_2 = []\n",
        "for i in range(len(sorted_dist_2)):\n",
        "  if sorted_dist_2[i][1] > 1:\n",
        "    removed_2.append(sorted_dist_2[i])\n",
        "\n",
        "removed = []\n",
        "\n",
        "for i in range(len(removed_0)):\n",
        "  removed.append(removed_0[i][0])\n",
        "\n",
        "for i in range(len(removed_1)):\n",
        "  removed.append(removed_1[i][0])\n",
        "\n",
        "for i in range(len(removed_2)):\n",
        "  removed.append(removed_2[i][0])\n",
        "  \n"
      ],
      "metadata": {
        "id": "OpBW0_uhd7PF"
      },
      "execution_count": 212,
      "outputs": []
    },
    {
      "cell_type": "code",
      "source": [
        "# selecting points whose distance is less than 1 from respective centroid\n",
        "\n",
        "selected_0 = []\n",
        "for i in range(len(sorted_dist_0)):\n",
        "  if sorted_dist_0[i][1] < 1:\n",
        "    selected_0.append(sorted_dist_0[i])\n",
        "\n",
        "selected_1 = []\n",
        "for i in range(len(sorted_dist_1)):\n",
        "  if sorted_dist_1[i][1] < 1:\n",
        "    selected_1.append(sorted_dist_1[i])\n",
        "\n",
        "selected_2 = []\n",
        "for i in range(len(sorted_dist_2)):\n",
        "  if sorted_dist_2[i][1] < 1:\n",
        "    selected_2.append(sorted_dist_2[i])"
      ],
      "metadata": {
        "id": "a5fYaafofIjj"
      },
      "execution_count": 213,
      "outputs": []
    },
    {
      "cell_type": "code",
      "source": [
        "# adding all selected points in one list\n",
        "selected = []\n",
        "\n",
        "for i in range(len(selected_0)):\n",
        "  selected.append(selected_0[i][0])\n",
        "\n",
        "for i in range(len(selected_1)):\n",
        "  selected.append(selected_1[i][0])\n",
        "\n",
        "for i in range(len(selected_2)):\n",
        "  selected.append(selected_2[i][0])\n",
        "\n",
        "\n",
        "\n",
        "print(f'{len(selected)} points were selected and {len(removed)} using Kmeans clustering with 1 as threshold distance')"
      ],
      "metadata": {
        "colab": {
          "base_uri": "https://localhost:8080/"
        },
        "id": "cES82aUTfmNN",
        "outputId": "6245eb4e-0d86-402e-a269-8bf20732f20c"
      },
      "execution_count": 214,
      "outputs": [
        {
          "output_type": "stream",
          "name": "stdout",
          "text": [
            "729 points were selected and 21 using Kmeans clustering with 1 as threshold distance\n"
          ]
        }
      ]
    },
    {
      "cell_type": "markdown",
      "source": [
        "** Question: 3 **\n",
        "## DBSCAN to find anomalies ##\n"
      ],
      "metadata": {
        "id": "bYpVS8TYp7LN"
      }
    },
    {
      "cell_type": "code",
      "source": [
        "#****** DBSCAN *********"
      ],
      "metadata": {
        "id": "kPki6k9nrdUu"
      },
      "execution_count": 215,
      "outputs": []
    },
    {
      "cell_type": "code",
      "source": [
        "from sklearn.cluster import DBSCAN\n",
        "\n",
        "# played with eps and min_samples values to obtain the best values for both\n",
        "# but not showing the figures for each optimization\n",
        "\n",
        "# set up model\n",
        "db = DBSCAN(eps=0.2, min_samples=10, metric='euclidean')\n",
        "\n",
        "# predict on scaled_X values\n",
        "y_db = db.fit_predict(scaled_X)\n",
        "\n",
        "# for plotting\n",
        "plt.scatter(scaled_X[y_db == 0, 0], scaled_X[y_db == 0, 1],\n",
        "            c='lightblue', marker='o', s=40,\n",
        "            edgecolor='black', \n",
        "            label='Cluster 1')\n",
        "plt.scatter(scaled_X[y_db == 1, 0], scaled_X[y_db == 1, 1],\n",
        "            c='red', marker='s', s=40,\n",
        "            edgecolor='black', \n",
        "            label='Cluster 2')\n",
        "\n",
        "plt.scatter(scaled_X[y_db == 2, 0], scaled_X[y_db == 2, 1],\n",
        "            c='green', marker='s', s=40,\n",
        "            edgecolor='black', \n",
        "            label='Cluster 3')\n",
        "plt.legend()\n",
        "plt.tight_layout()\n",
        "\n",
        "plt.show()"
      ],
      "metadata": {
        "colab": {
          "base_uri": "https://localhost:8080/",
          "height": 293
        },
        "id": "i2DGM1-irg2P",
        "outputId": "ea0aad83-7608-4b8d-af4e-dda170871eda"
      },
      "execution_count": 216,
      "outputs": [
        {
          "output_type": "display_data",
          "data": {
            "text/plain": [
              "<Figure size 432x288 with 1 Axes>"
            ],
            "image/png": "[encoded data removed]"
          },
          "metadata": {}
        }
      ]
    },
    {
      "cell_type": "code",
      "source": [
        "# separating outliers and inliers\n",
        "\n",
        "outliers = []\n",
        "for i in range(len(db.labels_)):\n",
        "  if db.labels_[i] == -1:\n",
        "    outliers.append(db.labels_[i])\n",
        "\n",
        "inliers = []\n",
        "for i in range(len(db.labels_)):\n",
        "  if db.labels_[i] != -1:\n",
        "    inliers.append(db.labels_[i])\n",
        "\n",
        "print(f'the number of outliers are {len(outliers)} out of {len(db.labels_)}')\n",
        "print(f'the number of inliers are {len(inliers)} out of {len(db.labels_)}')\n",
        "    "
      ],
      "metadata": {
        "id": "dLFjVboe_6Gy",
        "colab": {
          "base_uri": "https://localhost:8080/"
        },
        "outputId": "0a94b5d7-3aec-43de-d1f8-7a2c39750c89"
      },
      "execution_count": 217,
      "outputs": [
        {
          "output_type": "stream",
          "name": "stdout",
          "text": [
            "the number of outliers are 91 out of 750\n",
            "the number of inliers are 659 out of 750\n"
          ]
        }
      ]
    },
    {
      "cell_type": "code",
      "source": [
        "# cleaned dataset\n",
        "\n",
        "cluster_0 = list(zip(scaled_X[y_db == 0, 0], scaled_X[y_db == 0, 1]))\n",
        "cluster_1 = list(zip(scaled_X[y_db == 1, 0], scaled_X[y_db == 1, 1]))\n",
        "cluster_2 = list(zip(scaled_X[y_db == 2, 0], scaled_X[y_db == 2, 1]))\n",
        "\n",
        "cleaned_dataset = []\n",
        "for i in range(len(cluster_0)):\n",
        "  cleaned_dataset.append(cluster_0[i])\n",
        "\n",
        "\n",
        "\n",
        "for i in range(len(cluster_1)):\n",
        "  cleaned_dataset.append(cluster_1[i])\n",
        "\n",
        "\n",
        "for i in range(len(cluster_2)):\n",
        "  cleaned_dataset.append(cluster_2[i])\n",
        "\n",
        "print(f' The total number of points after removing anomalies by BDSCAN are {len(cleaned_dataset)}')"
      ],
      "metadata": {
        "colab": {
          "base_uri": "https://localhost:8080/"
        },
        "id": "Qh1LFMPp79_u",
        "outputId": "1403c133-20b7-4c0b-dd96-84d4ca8526a6"
      },
      "execution_count": 218,
      "outputs": [
        {
          "output_type": "stream",
          "name": "stdout",
          "text": [
            " The total number of points after removing anomalies by BDSCAN are 659\n"
          ]
        }
      ]
    },
    {
      "cell_type": "markdown",
      "source": [
        "** Question: 5\n",
        "## Developing a decision tree classifier using cleaned dataset obtained from DBSCAN ##"
      ],
      "metadata": {
        "id": "y_NRYH9di5um"
      }
    },
    {
      "cell_type": "code",
      "source": [
        "# Decision tree with cleaned dataset\n",
        "\n",
        "from sklearn.tree import DecisionTreeClassifier\n",
        "from sklearn.model_selection import train_test_split\n",
        "from mlxtend.plotting import plot_decision_regions\n",
        "import matplotlib.pyplot as plt\n",
        "\n",
        "X_train, X_test, y_train, y_test = \\\n",
        "    train_test_split(cleaned_dataset, inliers, \n",
        "                     test_size=0.20,\n",
        "                     stratify=y,\n",
        "                     random_state=1)"
      ],
      "metadata": {
        "id": "-yIgCRAhlaHq"
      },
      "execution_count": 219,
      "outputs": []
    },
    {
      "cell_type": "code",
      "source": [
        "from sklearn.preprocessing import StandardScaler\n",
        "from sklearn.decomposition import PCA\n",
        "from sklearn.tree import DecisionTreeClassifier\n",
        "from sklearn.pipeline import make_pipeline\n",
        "\n",
        "pipe1_dt = make_pipeline(StandardScaler(),\n",
        "                        \n",
        "                        DecisionTreeClassifier())\n",
        "pipe1_dt.fit(X_train, y_train)\n",
        "y_pred1 = pipe1_dt.predict(X_test)\n",
        "print('Test Accuracy: %.3f' % pipe1_dt.score(X_test, y_test))"
      ],
      "metadata": {
        "colab": {
          "base_uri": "https://localhost:8080/"
        },
        "id": "Aer_TYSulEhJ",
        "outputId": "d53f86d2-7fda-4640-8d09-8d8525344d85"
      },
      "execution_count": 220,
      "outputs": [
        {
          "output_type": "stream",
          "name": "stdout",
          "text": [
            "Test Accuracy: 0.371\n"
          ]
        }
      ]
    },
    {
      "cell_type": "code",
      "source": [
        "# visualizing tree\n",
        "import graphviz\n",
        "from pydotplus import graph_from_dot_data\n",
        "from sklearn.tree import export_graphviz\n",
        "\n",
        "from sklearn import tree\n",
        "tree_model = DecisionTreeClassifier(criterion='gini', max_depth=4, random_state=1)\n",
        "tree_model.fit(X_train, y_train)\n",
        "\n",
        "dot_data = export_graphviz(tree_model,\n",
        "                           filled=True, \n",
        "                           rounded=True,\n",
        "                           class_names=['Cluster_0', \n",
        "                                        'Cluster_1',\n",
        "                                        'Cluster_2'],\n",
        "                           feature_names=['f1', \n",
        "                                          'f2'],\n",
        "                           out_file=None) \n",
        "graph = graph_from_dot_data(dot_data) \n",
        "graph.write_png('tree.png') \n",
        "\n",
        "graph = graphviz.Source(dot_data, format=\"png\") \n",
        "graph"
      ],
      "metadata": {
        "colab": {
          "base_uri": "https://localhost:8080/",
          "height": 778
        },
        "id": "swAl-__HsdPZ",
        "outputId": "71cd0599-cc45-4ef6-d39d-ec3721c8decc"
      },
      "execution_count": 221,
      "outputs": [
        {
          "output_type": "execute_result",
          "data": {
            "text/plain": [
              "<graphviz.files.Source at 0x7ffa79e08730>"
            ],
            "image/svg+xml": "<?xml version=\"1.0\" encoding=\"UTF-8\" standalone=\"no\"?>\n<!DOCTYPE svg PUBLIC \"-//W3C//DTD SVG 1.1//EN\"\n \"http://www.w3.org/Graphics/SVG/1.1/DTD/svg11.dtd\">\n<!-- Generated by graphviz version 2.43.0 (0)\n -->\n<!-- Title: Tree Pages: 1 -->\n<svg width=\"1692pt\" height=\"552pt\"\n viewBox=\"0.00 0.00 1692.00 552.00\" xmlns=\"http://www.w3.org/2000/svg\" xmlns:xlink=\"http://www.w3.org/1999/xlink\">\n<g id=\"graph0\" class=\"graph\" transform=\"scale(1 1) rotate(0) translate(4 548)\">\n<title>Tree</title>\n<polygon fill=\"white\" stroke=\"transparent\" points=\"-4,4 -4,-548 1688,-548 1688,4 -4,4\"/>\n<!-- 0 -->\n<g id=\"node1\" class=\"node\">\n<title>0</title>\n<path fill=\"#fefffe\" stroke=\"black\" d=\"M925,-544C925,-544 794,-544 794,-544 788,-544 782,-538 782,-532 782,-532 782,-473 782,-473 782,-467 788,-461 794,-461 794,-461 925,-461 925,-461 931,-461 937,-467 937,-473 937,-473 937,-532 937,-532 937,-538 931,-544 925,-544\"/>\n<text text-anchor=\"middle\" x=\"859.5\" y=\"-528.8\" font-family=\"Helvetica,sans-Serif\" font-size=\"14.00\">f2 &lt;= &#45;0.841</text>\n<text text-anchor=\"middle\" x=\"859.5\" y=\"-513.8\" font-family=\"Helvetica,sans-Serif\" font-size=\"14.00\">gini = 0.667</text>\n<text text-anchor=\"middle\" x=\"859.5\" y=\"-498.8\" font-family=\"Helvetica,sans-Serif\" font-size=\"14.00\">samples = 527</text>\n<text text-anchor=\"middle\" x=\"859.5\" y=\"-483.8\" font-family=\"Helvetica,sans-Serif\" font-size=\"14.00\">value = [171, 179, 177]</text>\n<text text-anchor=\"middle\" x=\"859.5\" y=\"-468.8\" font-family=\"Helvetica,sans-Serif\" font-size=\"14.00\">class = Cluster_1</text>\n</g>\n<!-- 1 -->\n<g id=\"node2\" class=\"node\">\n<title>1</title>\n<path fill=\"#d3f9e3\" stroke=\"black\" d=\"M832.5,-425C832.5,-425 724.5,-425 724.5,-425 718.5,-425 712.5,-419 712.5,-413 712.5,-413 712.5,-354 712.5,-354 712.5,-348 718.5,-342 724.5,-342 724.5,-342 832.5,-342 832.5,-342 838.5,-342 844.5,-348 844.5,-354 844.5,-354 844.5,-413 844.5,-413 844.5,-419 838.5,-425 832.5,-425\"/>\n<text text-anchor=\"middle\" x=\"778.5\" y=\"-409.8\" font-family=\"Helvetica,sans-Serif\" font-size=\"14.00\">f2 &lt;= &#45;1.094</text>\n<text text-anchor=\"middle\" x=\"778.5\" y=\"-394.8\" font-family=\"Helvetica,sans-Serif\" font-size=\"14.00\">gini = 0.639</text>\n<text text-anchor=\"middle\" x=\"778.5\" y=\"-379.8\" font-family=\"Helvetica,sans-Serif\" font-size=\"14.00\">samples = 104</text>\n<text text-anchor=\"middle\" x=\"778.5\" y=\"-364.8\" font-family=\"Helvetica,sans-Serif\" font-size=\"14.00\">value = [32, 48, 24]</text>\n<text text-anchor=\"middle\" x=\"778.5\" y=\"-349.8\" font-family=\"Helvetica,sans-Serif\" font-size=\"14.00\">class = Cluster_1</text>\n</g>\n<!-- 0&#45;&gt;1 -->\n<g id=\"edge1\" class=\"edge\">\n<title>0&#45;&gt;1</title>\n<path fill=\"none\" stroke=\"black\" d=\"M831.4,-460.91C825.24,-452.01 818.66,-442.51 812.31,-433.33\"/>\n<polygon fill=\"black\" stroke=\"black\" points=\"815.12,-431.25 806.55,-425.02 809.37,-435.24 815.12,-431.25\"/>\n<text text-anchor=\"middle\" x=\"802.08\" y=\"-445.92\" font-family=\"Helvetica,sans-Serif\" font-size=\"14.00\">True</text>\n</g>\n<!-- 16 -->\n<g id=\"node17\" class=\"node\">\n<title>16</title>\n<path fill=\"#f9f5fe\" stroke=\"black\" d=\"M1058,-425C1058,-425 927,-425 927,-425 921,-425 915,-419 915,-413 915,-413 915,-354 915,-354 915,-348 921,-342 927,-342 927,-342 1058,-342 1058,-342 1064,-342 1070,-348 1070,-354 1070,-354 1070,-413 1070,-413 1070,-419 1064,-425 1058,-425\"/>\n<text text-anchor=\"middle\" x=\"992.5\" y=\"-409.8\" font-family=\"Helvetica,sans-Serif\" font-size=\"14.00\">f2 &lt;= &#45;0.836</text>\n<text text-anchor=\"middle\" x=\"992.5\" y=\"-394.8\" font-family=\"Helvetica,sans-Serif\" font-size=\"14.00\">gini = 0.665</text>\n<text text-anchor=\"middle\" x=\"992.5\" y=\"-379.8\" font-family=\"Helvetica,sans-Serif\" font-size=\"14.00\">samples = 423</text>\n<text text-anchor=\"middle\" x=\"992.5\" y=\"-364.8\" font-family=\"Helvetica,sans-Serif\" font-size=\"14.00\">value = [139, 131, 153]</text>\n<text text-anchor=\"middle\" x=\"992.5\" y=\"-349.8\" font-family=\"Helvetica,sans-Serif\" font-size=\"14.00\">class = Cluster_2</text>\n</g>\n<!-- 0&#45;&gt;16 -->\n<g id=\"edge16\" class=\"edge\">\n<title>0&#45;&gt;16</title>\n<path fill=\"none\" stroke=\"black\" d=\"M905.64,-460.91C916.37,-451.47 927.88,-441.34 938.9,-431.65\"/>\n<polygon fill=\"black\" stroke=\"black\" points=\"941.24,-434.25 946.44,-425.02 936.62,-429 941.24,-434.25\"/>\n<text text-anchor=\"middle\" x=\"944.84\" y=\"-446.27\" font-family=\"Helvetica,sans-Serif\" font-size=\"14.00\">False</text>\n</g>\n<!-- 2 -->\n<g id=\"node3\" class=\"node\">\n<title>2</title>\n<path fill=\"#fae9dd\" stroke=\"black\" d=\"M459,-306C459,-306 358,-306 358,-306 352,-306 346,-300 346,-294 346,-294 346,-235 346,-235 346,-229 352,-223 358,-223 358,-223 459,-223 459,-223 465,-223 471,-229 471,-235 471,-235 471,-294 471,-294 471,-300 465,-306 459,-306\"/>\n<text text-anchor=\"middle\" x=\"408.5\" y=\"-290.8\" font-family=\"Helvetica,sans-Serif\" font-size=\"14.00\">f2 &lt;= &#45;1.141</text>\n<text text-anchor=\"middle\" x=\"408.5\" y=\"-275.8\" font-family=\"Helvetica,sans-Serif\" font-size=\"14.00\">gini = 0.645</text>\n<text text-anchor=\"middle\" x=\"408.5\" y=\"-260.8\" font-family=\"Helvetica,sans-Serif\" font-size=\"14.00\">samples = 34</text>\n<text text-anchor=\"middle\" x=\"408.5\" y=\"-245.8\" font-family=\"Helvetica,sans-Serif\" font-size=\"14.00\">value = [15, 11, 8]</text>\n<text text-anchor=\"middle\" x=\"408.5\" y=\"-230.8\" font-family=\"Helvetica,sans-Serif\" font-size=\"14.00\">class = Cluster_0</text>\n</g>\n<!-- 1&#45;&gt;2 -->\n<g id=\"edge2\" class=\"edge\">\n<title>1&#45;&gt;2</title>\n<path fill=\"none\" stroke=\"black\" d=\"M712.35,-361.58C647.27,-341 548.16,-309.66 480.97,-288.42\"/>\n<polygon fill=\"black\" stroke=\"black\" points=\"481.89,-285.04 471.3,-285.36 479.78,-291.71 481.89,-285.04\"/>\n</g>\n<!-- 9 -->\n<g id=\"node10\" class=\"node\">\n<title>9</title>\n<path fill=\"#b4f5cf\" stroke=\"black\" d=\"M832.5,-306C832.5,-306 724.5,-306 724.5,-306 718.5,-306 712.5,-300 712.5,-294 712.5,-294 712.5,-235 712.5,-235 712.5,-229 718.5,-223 724.5,-223 724.5,-223 832.5,-223 832.5,-223 838.5,-223 844.5,-229 844.5,-235 844.5,-235 844.5,-294 844.5,-294 844.5,-300 838.5,-306 832.5,-306\"/>\n<text text-anchor=\"middle\" x=\"778.5\" y=\"-290.8\" font-family=\"Helvetica,sans-Serif\" font-size=\"14.00\">f2 &lt;= &#45;0.878</text>\n<text text-anchor=\"middle\" x=\"778.5\" y=\"-275.8\" font-family=\"Helvetica,sans-Serif\" font-size=\"14.00\">gini = 0.609</text>\n<text text-anchor=\"middle\" x=\"778.5\" y=\"-260.8\" font-family=\"Helvetica,sans-Serif\" font-size=\"14.00\">samples = 70</text>\n<text text-anchor=\"middle\" x=\"778.5\" y=\"-245.8\" font-family=\"Helvetica,sans-Serif\" font-size=\"14.00\">value = [17, 37, 16]</text>\n<text text-anchor=\"middle\" x=\"778.5\" y=\"-230.8\" font-family=\"Helvetica,sans-Serif\" font-size=\"14.00\">class = Cluster_1</text>\n</g>\n<!-- 1&#45;&gt;9 -->\n<g id=\"edge9\" class=\"edge\">\n<title>1&#45;&gt;9</title>\n<path fill=\"none\" stroke=\"black\" d=\"M778.5,-341.91C778.5,-333.65 778.5,-324.86 778.5,-316.3\"/>\n<polygon fill=\"black\" stroke=\"black\" points=\"782,-316.02 778.5,-306.02 775,-316.02 782,-316.02\"/>\n</g>\n<!-- 3 -->\n<g id=\"node4\" class=\"node\">\n<title>3</title>\n<path fill=\"#e6fcef\" stroke=\"black\" d=\"M248,-187C248,-187 151,-187 151,-187 145,-187 139,-181 139,-175 139,-175 139,-116 139,-116 139,-110 145,-104 151,-104 151,-104 248,-104 248,-104 254,-104 260,-110 260,-116 260,-116 260,-175 260,-175 260,-181 254,-187 248,-187\"/>\n<text text-anchor=\"middle\" x=\"199.5\" y=\"-171.8\" font-family=\"Helvetica,sans-Serif\" font-size=\"14.00\">f2 &lt;= &#45;1.19</text>\n<text text-anchor=\"middle\" x=\"199.5\" y=\"-156.8\" font-family=\"Helvetica,sans-Serif\" font-size=\"14.00\">gini = 0.653</text>\n<text text-anchor=\"middle\" x=\"199.5\" y=\"-141.8\" font-family=\"Helvetica,sans-Serif\" font-size=\"14.00\">samples = 24</text>\n<text text-anchor=\"middle\" x=\"199.5\" y=\"-126.8\" font-family=\"Helvetica,sans-Serif\" font-size=\"14.00\">value = [8, 10, 6]</text>\n<text text-anchor=\"middle\" x=\"199.5\" y=\"-111.8\" font-family=\"Helvetica,sans-Serif\" font-size=\"14.00\">class = Cluster_1</text>\n</g>\n<!-- 2&#45;&gt;3 -->\n<g id=\"edge3\" class=\"edge\">\n<title>2&#45;&gt;3</title>\n<path fill=\"none\" stroke=\"black\" d=\"M345.79,-228.4C321.59,-214.85 293.81,-199.29 269,-185.41\"/>\n<polygon fill=\"black\" stroke=\"black\" points=\"270.44,-182.2 260.01,-180.37 267.02,-188.31 270.44,-182.2\"/>\n</g>\n<!-- 6 -->\n<g id=\"node7\" class=\"node\">\n<title>6</title>\n<path fill=\"#efb083\" stroke=\"black\" d=\"M457,-187C457,-187 360,-187 360,-187 354,-187 348,-181 348,-175 348,-175 348,-116 348,-116 348,-110 354,-104 360,-104 360,-104 457,-104 457,-104 463,-104 469,-110 469,-116 469,-116 469,-175 469,-175 469,-181 463,-187 457,-187\"/>\n<text text-anchor=\"middle\" x=\"408.5\" y=\"-171.8\" font-family=\"Helvetica,sans-Serif\" font-size=\"14.00\">f2 &lt;= &#45;1.102</text>\n<text text-anchor=\"middle\" x=\"408.5\" y=\"-156.8\" font-family=\"Helvetica,sans-Serif\" font-size=\"14.00\">gini = 0.46</text>\n<text text-anchor=\"middle\" x=\"408.5\" y=\"-141.8\" font-family=\"Helvetica,sans-Serif\" font-size=\"14.00\">samples = 10</text>\n<text text-anchor=\"middle\" x=\"408.5\" y=\"-126.8\" font-family=\"Helvetica,sans-Serif\" font-size=\"14.00\">value = [7, 1, 2]</text>\n<text text-anchor=\"middle\" x=\"408.5\" y=\"-111.8\" font-family=\"Helvetica,sans-Serif\" font-size=\"14.00\">class = Cluster_0</text>\n</g>\n<!-- 2&#45;&gt;6 -->\n<g id=\"edge6\" class=\"edge\">\n<title>2&#45;&gt;6</title>\n<path fill=\"none\" stroke=\"black\" d=\"M408.5,-222.91C408.5,-214.65 408.5,-205.86 408.5,-197.3\"/>\n<polygon fill=\"black\" stroke=\"black\" points=\"412,-197.02 408.5,-187.02 405,-197.02 412,-197.02\"/>\n</g>\n<!-- 4 -->\n<g id=\"node5\" class=\"node\">\n<title>4</title>\n<path fill=\"#f8e0ce\" stroke=\"black\" d=\"M109,-68C109,-68 12,-68 12,-68 6,-68 0,-62 0,-56 0,-56 0,-12 0,-12 0,-6 6,0 12,0 12,0 109,0 109,0 115,0 121,-6 121,-12 121,-12 121,-56 121,-56 121,-62 115,-68 109,-68\"/>\n<text text-anchor=\"middle\" x=\"60.5\" y=\"-52.8\" font-family=\"Helvetica,sans-Serif\" font-size=\"14.00\">gini = 0.637</text>\n<text text-anchor=\"middle\" x=\"60.5\" y=\"-37.8\" font-family=\"Helvetica,sans-Serif\" font-size=\"14.00\">samples = 17</text>\n<text text-anchor=\"middle\" x=\"60.5\" y=\"-22.8\" font-family=\"Helvetica,sans-Serif\" font-size=\"14.00\">value = [8, 5, 4]</text>\n<text text-anchor=\"middle\" x=\"60.5\" y=\"-7.8\" font-family=\"Helvetica,sans-Serif\" font-size=\"14.00\">class = Cluster_0</text>\n</g>\n<!-- 3&#45;&gt;4 -->\n<g id=\"edge4\" class=\"edge\">\n<title>3&#45;&gt;4</title>\n<path fill=\"none\" stroke=\"black\" d=\"M147.74,-103.73C135.7,-94.24 122.9,-84.16 110.92,-74.72\"/>\n<polygon fill=\"black\" stroke=\"black\" points=\"112.79,-71.74 102.77,-68.3 108.46,-77.24 112.79,-71.74\"/>\n</g>\n<!-- 5 -->\n<g id=\"node6\" class=\"node\">\n<title>5</title>\n<path fill=\"#88efb3\" stroke=\"black\" d=\"M248,-68C248,-68 151,-68 151,-68 145,-68 139,-62 139,-56 139,-56 139,-12 139,-12 139,-6 145,0 151,0 151,0 248,0 248,0 254,0 260,-6 260,-12 260,-12 260,-56 260,-56 260,-62 254,-68 248,-68\"/>\n<text text-anchor=\"middle\" x=\"199.5\" y=\"-52.8\" font-family=\"Helvetica,sans-Serif\" font-size=\"14.00\">gini = 0.408</text>\n<text text-anchor=\"middle\" x=\"199.5\" y=\"-37.8\" font-family=\"Helvetica,sans-Serif\" font-size=\"14.00\">samples = 7</text>\n<text text-anchor=\"middle\" x=\"199.5\" y=\"-22.8\" font-family=\"Helvetica,sans-Serif\" font-size=\"14.00\">value = [0, 5, 2]</text>\n<text text-anchor=\"middle\" x=\"199.5\" y=\"-7.8\" font-family=\"Helvetica,sans-Serif\" font-size=\"14.00\">class = Cluster_1</text>\n</g>\n<!-- 3&#45;&gt;5 -->\n<g id=\"edge5\" class=\"edge\">\n<title>3&#45;&gt;5</title>\n<path fill=\"none\" stroke=\"black\" d=\"M199.5,-103.73C199.5,-95.52 199.5,-86.86 199.5,-78.56\"/>\n<polygon fill=\"black\" stroke=\"black\" points=\"203,-78.3 199.5,-68.3 196,-78.3 203,-78.3\"/>\n</g>\n<!-- 7 -->\n<g id=\"node8\" class=\"node\">\n<title>7</title>\n<path fill=\"#eca06a\" stroke=\"black\" d=\"M387,-68C387,-68 290,-68 290,-68 284,-68 278,-62 278,-56 278,-56 278,-12 278,-12 278,-6 284,0 290,0 290,0 387,0 387,0 393,0 399,-6 399,-12 399,-12 399,-56 399,-56 399,-62 393,-68 387,-68\"/>\n<text text-anchor=\"middle\" x=\"338.5\" y=\"-52.8\" font-family=\"Helvetica,sans-Serif\" font-size=\"14.00\">gini = 0.37</text>\n<text text-anchor=\"middle\" x=\"338.5\" y=\"-37.8\" font-family=\"Helvetica,sans-Serif\" font-size=\"14.00\">samples = 9</text>\n<text text-anchor=\"middle\" x=\"338.5\" y=\"-22.8\" font-family=\"Helvetica,sans-Serif\" font-size=\"14.00\">value = [7, 1, 1]</text>\n<text text-anchor=\"middle\" x=\"338.5\" y=\"-7.8\" font-family=\"Helvetica,sans-Serif\" font-size=\"14.00\">class = Cluster_0</text>\n</g>\n<!-- 6&#45;&gt;7 -->\n<g id=\"edge7\" class=\"edge\">\n<title>6&#45;&gt;7</title>\n<path fill=\"none\" stroke=\"black\" d=\"M382.43,-103.73C376.84,-94.97 370.91,-85.7 365.29,-76.91\"/>\n<polygon fill=\"black\" stroke=\"black\" points=\"368.12,-74.84 359.79,-68.3 362.22,-78.61 368.12,-74.84\"/>\n</g>\n<!-- 8 -->\n<g id=\"node9\" class=\"node\">\n<title>8</title>\n<path fill=\"#8139e5\" stroke=\"black\" d=\"M526,-68C526,-68 429,-68 429,-68 423,-68 417,-62 417,-56 417,-56 417,-12 417,-12 417,-6 423,0 429,0 429,0 526,0 526,0 532,0 538,-6 538,-12 538,-12 538,-56 538,-56 538,-62 532,-68 526,-68\"/>\n<text text-anchor=\"middle\" x=\"477.5\" y=\"-52.8\" font-family=\"Helvetica,sans-Serif\" font-size=\"14.00\">gini = 0.0</text>\n<text text-anchor=\"middle\" x=\"477.5\" y=\"-37.8\" font-family=\"Helvetica,sans-Serif\" font-size=\"14.00\">samples = 1</text>\n<text text-anchor=\"middle\" x=\"477.5\" y=\"-22.8\" font-family=\"Helvetica,sans-Serif\" font-size=\"14.00\">value = [0, 0, 1]</text>\n<text text-anchor=\"middle\" x=\"477.5\" y=\"-7.8\" font-family=\"Helvetica,sans-Serif\" font-size=\"14.00\">class = Cluster_2</text>\n</g>\n<!-- 6&#45;&gt;8 -->\n<g id=\"edge8\" class=\"edge\">\n<title>6&#45;&gt;8</title>\n<path fill=\"none\" stroke=\"black\" d=\"M434.19,-103.73C439.71,-94.97 445.55,-85.7 451.09,-76.91\"/>\n<polygon fill=\"black\" stroke=\"black\" points=\"454.15,-78.63 456.52,-68.3 448.22,-74.89 454.15,-78.63\"/>\n</g>\n<!-- 10 -->\n<g id=\"node11\" class=\"node\">\n<title>10</title>\n<path fill=\"#c5f7da\" stroke=\"black\" d=\"M806.5,-187C806.5,-187 698.5,-187 698.5,-187 692.5,-187 686.5,-181 686.5,-175 686.5,-175 686.5,-116 686.5,-116 686.5,-110 692.5,-104 698.5,-104 698.5,-104 806.5,-104 806.5,-104 812.5,-104 818.5,-110 818.5,-116 818.5,-116 818.5,-175 818.5,-175 818.5,-181 812.5,-187 806.5,-187\"/>\n<text text-anchor=\"middle\" x=\"752.5\" y=\"-171.8\" font-family=\"Helvetica,sans-Serif\" font-size=\"14.00\">f2 &lt;= &#45;0.949</text>\n<text text-anchor=\"middle\" x=\"752.5\" y=\"-156.8\" font-family=\"Helvetica,sans-Serif\" font-size=\"14.00\">gini = 0.628</text>\n<text text-anchor=\"middle\" x=\"752.5\" y=\"-141.8\" font-family=\"Helvetica,sans-Serif\" font-size=\"14.00\">samples = 57</text>\n<text text-anchor=\"middle\" x=\"752.5\" y=\"-126.8\" font-family=\"Helvetica,sans-Serif\" font-size=\"14.00\">value = [13, 28, 16]</text>\n<text text-anchor=\"middle\" x=\"752.5\" y=\"-111.8\" font-family=\"Helvetica,sans-Serif\" font-size=\"14.00\">class = Cluster_1</text>\n</g>\n<!-- 9&#45;&gt;10 -->\n<g id=\"edge10\" class=\"edge\">\n<title>9&#45;&gt;10</title>\n<path fill=\"none\" stroke=\"black\" d=\"M769.48,-222.91C767.62,-214.56 765.65,-205.67 763.73,-197.02\"/>\n<polygon fill=\"black\" stroke=\"black\" points=\"767.09,-196.02 761.5,-187.02 760.26,-197.54 767.09,-196.02\"/>\n</g>\n<!-- 13 -->\n<g id=\"node14\" class=\"node\">\n<title>13</title>\n<path fill=\"#91f1b9\" stroke=\"black\" d=\"M946,-187C946,-187 849,-187 849,-187 843,-187 837,-181 837,-175 837,-175 837,-116 837,-116 837,-110 843,-104 849,-104 849,-104 946,-104 946,-104 952,-104 958,-110 958,-116 958,-116 958,-175 958,-175 958,-181 952,-187 946,-187\"/>\n<text text-anchor=\"middle\" x=\"897.5\" y=\"-171.8\" font-family=\"Helvetica,sans-Serif\" font-size=\"14.00\">f2 &lt;= &#45;0.85</text>\n<text text-anchor=\"middle\" x=\"897.5\" y=\"-156.8\" font-family=\"Helvetica,sans-Serif\" font-size=\"14.00\">gini = 0.426</text>\n<text text-anchor=\"middle\" x=\"897.5\" y=\"-141.8\" font-family=\"Helvetica,sans-Serif\" font-size=\"14.00\">samples = 13</text>\n<text text-anchor=\"middle\" x=\"897.5\" y=\"-126.8\" font-family=\"Helvetica,sans-Serif\" font-size=\"14.00\">value = [4, 9, 0]</text>\n<text text-anchor=\"middle\" x=\"897.5\" y=\"-111.8\" font-family=\"Helvetica,sans-Serif\" font-size=\"14.00\">class = Cluster_1</text>\n</g>\n<!-- 9&#45;&gt;13 -->\n<g id=\"edge13\" class=\"edge\">\n<title>9&#45;&gt;13</title>\n<path fill=\"none\" stroke=\"black\" d=\"M819.79,-222.91C829.2,-213.65 839.29,-203.73 848.98,-194.21\"/>\n<polygon fill=\"black\" stroke=\"black\" points=\"851.61,-196.53 856.29,-187.02 846.7,-191.54 851.61,-196.53\"/>\n</g>\n<!-- 11 -->\n<g id=\"node12\" class=\"node\">\n<title>11</title>\n<path fill=\"#a2f3c4\" stroke=\"black\" d=\"M665,-68C665,-68 568,-68 568,-68 562,-68 556,-62 556,-56 556,-56 556,-12 556,-12 556,-6 562,0 568,0 568,0 665,0 665,0 671,0 677,-6 677,-12 677,-12 677,-56 677,-56 677,-62 671,-68 665,-68\"/>\n<text text-anchor=\"middle\" x=\"616.5\" y=\"-52.8\" font-family=\"Helvetica,sans-Serif\" font-size=\"14.00\">gini = 0.571</text>\n<text text-anchor=\"middle\" x=\"616.5\" y=\"-37.8\" font-family=\"Helvetica,sans-Serif\" font-size=\"14.00\">samples = 41</text>\n<text text-anchor=\"middle\" x=\"616.5\" y=\"-22.8\" font-family=\"Helvetica,sans-Serif\" font-size=\"14.00\">value = [9, 24, 8]</text>\n<text text-anchor=\"middle\" x=\"616.5\" y=\"-7.8\" font-family=\"Helvetica,sans-Serif\" font-size=\"14.00\">class = Cluster_1</text>\n</g>\n<!-- 10&#45;&gt;11 -->\n<g id=\"edge11\" class=\"edge\">\n<title>10&#45;&gt;11</title>\n<path fill=\"none\" stroke=\"black\" d=\"M701.86,-103.73C690.08,-94.24 677.55,-84.16 665.83,-74.72\"/>\n<polygon fill=\"black\" stroke=\"black\" points=\"667.84,-71.84 657.86,-68.3 663.45,-77.3 667.84,-71.84\"/>\n</g>\n<!-- 12 -->\n<g id=\"node13\" class=\"node\">\n<title>12</title>\n<path fill=\"#d5bdf6\" stroke=\"black\" d=\"M804,-68C804,-68 707,-68 707,-68 701,-68 695,-62 695,-56 695,-56 695,-12 695,-12 695,-6 701,0 707,0 707,0 804,0 804,0 810,0 816,-6 816,-12 816,-12 816,-56 816,-56 816,-62 810,-68 804,-68\"/>\n<text text-anchor=\"middle\" x=\"755.5\" y=\"-52.8\" font-family=\"Helvetica,sans-Serif\" font-size=\"14.00\">gini = 0.625</text>\n<text text-anchor=\"middle\" x=\"755.5\" y=\"-37.8\" font-family=\"Helvetica,sans-Serif\" font-size=\"14.00\">samples = 16</text>\n<text text-anchor=\"middle\" x=\"755.5\" y=\"-22.8\" font-family=\"Helvetica,sans-Serif\" font-size=\"14.00\">value = [4, 4, 8]</text>\n<text text-anchor=\"middle\" x=\"755.5\" y=\"-7.8\" font-family=\"Helvetica,sans-Serif\" font-size=\"14.00\">class = Cluster_2</text>\n</g>\n<!-- 10&#45;&gt;12 -->\n<g id=\"edge12\" class=\"edge\">\n<title>10&#45;&gt;12</title>\n<path fill=\"none\" stroke=\"black\" d=\"M753.62,-103.73C753.84,-95.52 754.08,-86.86 754.31,-78.56\"/>\n<polygon fill=\"black\" stroke=\"black\" points=\"757.81,-78.39 754.59,-68.3 750.82,-78.2 757.81,-78.39\"/>\n</g>\n<!-- 14 -->\n<g id=\"node15\" class=\"node\">\n<title>14</title>\n<path fill=\"#6aeca0\" stroke=\"black\" d=\"M943,-68C943,-68 846,-68 846,-68 840,-68 834,-62 834,-56 834,-56 834,-12 834,-12 834,-6 840,0 846,0 846,0 943,0 943,0 949,0 955,-6 955,-12 955,-12 955,-56 955,-56 955,-62 949,-68 943,-68\"/>\n<text text-anchor=\"middle\" x=\"894.5\" y=\"-52.8\" font-family=\"Helvetica,sans-Serif\" font-size=\"14.00\">gini = 0.32</text>\n<text text-anchor=\"middle\" x=\"894.5\" y=\"-37.8\" font-family=\"Helvetica,sans-Serif\" font-size=\"14.00\">samples = 10</text>\n<text text-anchor=\"middle\" x=\"894.5\" y=\"-22.8\" font-family=\"Helvetica,sans-Serif\" font-size=\"14.00\">value = [2, 8, 0]</text>\n<text text-anchor=\"middle\" x=\"894.5\" y=\"-7.8\" font-family=\"Helvetica,sans-Serif\" font-size=\"14.00\">class = Cluster_1</text>\n</g>\n<!-- 13&#45;&gt;14 -->\n<g id=\"edge14\" class=\"edge\">\n<title>13&#45;&gt;14</title>\n<path fill=\"none\" stroke=\"black\" d=\"M896.38,-103.73C896.16,-95.52 895.92,-86.86 895.69,-78.56\"/>\n<polygon fill=\"black\" stroke=\"black\" points=\"899.18,-78.2 895.41,-68.3 892.19,-78.39 899.18,-78.2\"/>\n</g>\n<!-- 15 -->\n<g id=\"node16\" class=\"node\">\n<title>15</title>\n<path fill=\"#f2c09c\" stroke=\"black\" d=\"M1082,-68C1082,-68 985,-68 985,-68 979,-68 973,-62 973,-56 973,-56 973,-12 973,-12 973,-6 979,0 985,0 985,0 1082,0 1082,0 1088,0 1094,-6 1094,-12 1094,-12 1094,-56 1094,-56 1094,-62 1088,-68 1082,-68\"/>\n<text text-anchor=\"middle\" x=\"1033.5\" y=\"-52.8\" font-family=\"Helvetica,sans-Serif\" font-size=\"14.00\">gini = 0.444</text>\n<text text-anchor=\"middle\" x=\"1033.5\" y=\"-37.8\" font-family=\"Helvetica,sans-Serif\" font-size=\"14.00\">samples = 3</text>\n<text text-anchor=\"middle\" x=\"1033.5\" y=\"-22.8\" font-family=\"Helvetica,sans-Serif\" font-size=\"14.00\">value = [2, 1, 0]</text>\n<text text-anchor=\"middle\" x=\"1033.5\" y=\"-7.8\" font-family=\"Helvetica,sans-Serif\" font-size=\"14.00\">class = Cluster_0</text>\n</g>\n<!-- 13&#45;&gt;15 -->\n<g id=\"edge15\" class=\"edge\">\n<title>13&#45;&gt;15</title>\n<path fill=\"none\" stroke=\"black\" d=\"M948.14,-103.73C959.92,-94.24 972.45,-84.16 984.17,-74.72\"/>\n<polygon fill=\"black\" stroke=\"black\" points=\"986.55,-77.3 992.14,-68.3 982.16,-71.84 986.55,-77.3\"/>\n</g>\n<!-- 17 -->\n<g id=\"node18\" class=\"node\">\n<title>17</title>\n<path fill=\"#e58139\" stroke=\"black\" d=\"M1041,-298.5C1041,-298.5 944,-298.5 944,-298.5 938,-298.5 932,-292.5 932,-286.5 932,-286.5 932,-242.5 932,-242.5 932,-236.5 938,-230.5 944,-230.5 944,-230.5 1041,-230.5 1041,-230.5 1047,-230.5 1053,-236.5 1053,-242.5 1053,-242.5 1053,-286.5 1053,-286.5 1053,-292.5 1047,-298.5 1041,-298.5\"/>\n<text text-anchor=\"middle\" x=\"992.5\" y=\"-283.3\" font-family=\"Helvetica,sans-Serif\" font-size=\"14.00\">gini = 0.0</text>\n<text text-anchor=\"middle\" x=\"992.5\" y=\"-268.3\" font-family=\"Helvetica,sans-Serif\" font-size=\"14.00\">samples = 3</text>\n<text text-anchor=\"middle\" x=\"992.5\" y=\"-253.3\" font-family=\"Helvetica,sans-Serif\" font-size=\"14.00\">value = [3, 0, 0]</text>\n<text text-anchor=\"middle\" x=\"992.5\" y=\"-238.3\" font-family=\"Helvetica,sans-Serif\" font-size=\"14.00\">class = Cluster_0</text>\n</g>\n<!-- 16&#45;&gt;17 -->\n<g id=\"edge17\" class=\"edge\">\n<title>16&#45;&gt;17</title>\n<path fill=\"none\" stroke=\"black\" d=\"M992.5,-341.91C992.5,-331.2 992.5,-319.62 992.5,-308.78\"/>\n<polygon fill=\"black\" stroke=\"black\" points=\"996,-308.67 992.5,-298.67 989,-308.67 996,-308.67\"/>\n</g>\n<!-- 18 -->\n<g id=\"node19\" class=\"node\">\n<title>18</title>\n<path fill=\"#f7f3fd\" stroke=\"black\" d=\"M1299,-306C1299,-306 1168,-306 1168,-306 1162,-306 1156,-300 1156,-294 1156,-294 1156,-235 1156,-235 1156,-229 1162,-223 1168,-223 1168,-223 1299,-223 1299,-223 1305,-223 1311,-229 1311,-235 1311,-235 1311,-294 1311,-294 1311,-300 1305,-306 1299,-306\"/>\n<text text-anchor=\"middle\" x=\"1233.5\" y=\"-290.8\" font-family=\"Helvetica,sans-Serif\" font-size=\"14.00\">f1 &lt;= &#45;1.656</text>\n<text text-anchor=\"middle\" x=\"1233.5\" y=\"-275.8\" font-family=\"Helvetica,sans-Serif\" font-size=\"14.00\">gini = 0.665</text>\n<text text-anchor=\"middle\" x=\"1233.5\" y=\"-260.8\" font-family=\"Helvetica,sans-Serif\" font-size=\"14.00\">samples = 420</text>\n<text text-anchor=\"middle\" x=\"1233.5\" y=\"-245.8\" font-family=\"Helvetica,sans-Serif\" font-size=\"14.00\">value = [136, 131, 153]</text>\n<text text-anchor=\"middle\" x=\"1233.5\" y=\"-230.8\" font-family=\"Helvetica,sans-Serif\" font-size=\"14.00\">class = Cluster_2</text>\n</g>\n<!-- 16&#45;&gt;18 -->\n<g id=\"edge18\" class=\"edge\">\n<title>16&#45;&gt;18</title>\n<path fill=\"none\" stroke=\"black\" d=\"M1070.08,-344.84C1094.47,-333 1121.55,-319.85 1146.55,-307.71\"/>\n<polygon fill=\"black\" stroke=\"black\" points=\"1148.18,-310.81 1155.65,-303.29 1145.13,-304.51 1148.18,-310.81\"/>\n</g>\n<!-- 19 -->\n<g id=\"node20\" class=\"node\">\n<title>19</title>\n<path fill=\"#b991f1\" stroke=\"black\" d=\"M1282,-187C1282,-187 1185,-187 1185,-187 1179,-187 1173,-181 1173,-175 1173,-175 1173,-116 1173,-116 1173,-110 1179,-104 1185,-104 1185,-104 1282,-104 1282,-104 1288,-104 1294,-110 1294,-116 1294,-116 1294,-175 1294,-175 1294,-181 1288,-187 1282,-187\"/>\n<text text-anchor=\"middle\" x=\"1233.5\" y=\"-171.8\" font-family=\"Helvetica,sans-Serif\" font-size=\"14.00\">f1 &lt;= &#45;1.921</text>\n<text text-anchor=\"middle\" x=\"1233.5\" y=\"-156.8\" font-family=\"Helvetica,sans-Serif\" font-size=\"14.00\">gini = 0.486</text>\n<text text-anchor=\"middle\" x=\"1233.5\" y=\"-141.8\" font-family=\"Helvetica,sans-Serif\" font-size=\"14.00\">samples = 12</text>\n<text text-anchor=\"middle\" x=\"1233.5\" y=\"-126.8\" font-family=\"Helvetica,sans-Serif\" font-size=\"14.00\">value = [1, 3, 8]</text>\n<text text-anchor=\"middle\" x=\"1233.5\" y=\"-111.8\" font-family=\"Helvetica,sans-Serif\" font-size=\"14.00\">class = Cluster_2</text>\n</g>\n<!-- 18&#45;&gt;19 -->\n<g id=\"edge19\" class=\"edge\">\n<title>18&#45;&gt;19</title>\n<path fill=\"none\" stroke=\"black\" d=\"M1233.5,-222.91C1233.5,-214.65 1233.5,-205.86 1233.5,-197.3\"/>\n<polygon fill=\"black\" stroke=\"black\" points=\"1237,-197.02 1233.5,-187.02 1230,-197.02 1237,-197.02\"/>\n</g>\n<!-- 22 -->\n<g id=\"node23\" class=\"node\">\n<title>22</title>\n<path fill=\"#faf8fe\" stroke=\"black\" d=\"M1516,-187C1516,-187 1385,-187 1385,-187 1379,-187 1373,-181 1373,-175 1373,-175 1373,-116 1373,-116 1373,-110 1379,-104 1385,-104 1385,-104 1516,-104 1516,-104 1522,-104 1528,-110 1528,-116 1528,-116 1528,-175 1528,-175 1528,-181 1522,-187 1516,-187\"/>\n<text text-anchor=\"middle\" x=\"1450.5\" y=\"-171.8\" font-family=\"Helvetica,sans-Serif\" font-size=\"14.00\">f2 &lt;= &#45;0.817</text>\n<text text-anchor=\"middle\" x=\"1450.5\" y=\"-156.8\" font-family=\"Helvetica,sans-Serif\" font-size=\"14.00\">gini = 0.666</text>\n<text text-anchor=\"middle\" x=\"1450.5\" y=\"-141.8\" font-family=\"Helvetica,sans-Serif\" font-size=\"14.00\">samples = 408</text>\n<text text-anchor=\"middle\" x=\"1450.5\" y=\"-126.8\" font-family=\"Helvetica,sans-Serif\" font-size=\"14.00\">value = [135, 128, 145]</text>\n<text text-anchor=\"middle\" x=\"1450.5\" y=\"-111.8\" font-family=\"Helvetica,sans-Serif\" font-size=\"14.00\">class = Cluster_2</text>\n</g>\n<!-- 18&#45;&gt;22 -->\n<g id=\"edge22\" class=\"edge\">\n<title>18&#45;&gt;22</title>\n<path fill=\"none\" stroke=\"black\" d=\"M1308.79,-222.91C1327.39,-212.88 1347.43,-202.07 1366.41,-191.84\"/>\n<polygon fill=\"black\" stroke=\"black\" points=\"1368.2,-194.85 1375.35,-187.02 1364.88,-188.69 1368.2,-194.85\"/>\n</g>\n<!-- 20 -->\n<g id=\"node21\" class=\"node\">\n<title>20</title>\n<path fill=\"#39e581\" stroke=\"black\" d=\"M1221,-68C1221,-68 1124,-68 1124,-68 1118,-68 1112,-62 1112,-56 1112,-56 1112,-12 1112,-12 1112,-6 1118,0 1124,0 1124,0 1221,0 1221,0 1227,0 1233,-6 1233,-12 1233,-12 1233,-56 1233,-56 1233,-62 1227,-68 1221,-68\"/>\n<text text-anchor=\"middle\" x=\"1172.5\" y=\"-52.8\" font-family=\"Helvetica,sans-Serif\" font-size=\"14.00\">gini = 0.0</text>\n<text text-anchor=\"middle\" x=\"1172.5\" y=\"-37.8\" font-family=\"Helvetica,sans-Serif\" font-size=\"14.00\">samples = 1</text>\n<text text-anchor=\"middle\" x=\"1172.5\" y=\"-22.8\" font-family=\"Helvetica,sans-Serif\" font-size=\"14.00\">value = [0, 1, 0]</text>\n<text text-anchor=\"middle\" x=\"1172.5\" y=\"-7.8\" font-family=\"Helvetica,sans-Serif\" font-size=\"14.00\">class = Cluster_1</text>\n</g>\n<!-- 19&#45;&gt;20 -->\n<g id=\"edge20\" class=\"edge\">\n<title>19&#45;&gt;20</title>\n<path fill=\"none\" stroke=\"black\" d=\"M1210.79,-103.73C1205.96,-95.06 1200.85,-85.9 1196,-77.18\"/>\n<polygon fill=\"black\" stroke=\"black\" points=\"1198.97,-75.33 1191.05,-68.3 1192.86,-78.74 1198.97,-75.33\"/>\n</g>\n<!-- 21 -->\n<g id=\"node22\" class=\"node\">\n<title>21</title>\n<path fill=\"#ab7bee\" stroke=\"black\" d=\"M1360,-68C1360,-68 1263,-68 1263,-68 1257,-68 1251,-62 1251,-56 1251,-56 1251,-12 1251,-12 1251,-6 1257,0 1263,0 1263,0 1360,0 1360,0 1366,0 1372,-6 1372,-12 1372,-12 1372,-56 1372,-56 1372,-62 1366,-68 1360,-68\"/>\n<text text-anchor=\"middle\" x=\"1311.5\" y=\"-52.8\" font-family=\"Helvetica,sans-Serif\" font-size=\"14.00\">gini = 0.43</text>\n<text text-anchor=\"middle\" x=\"1311.5\" y=\"-37.8\" font-family=\"Helvetica,sans-Serif\" font-size=\"14.00\">samples = 11</text>\n<text text-anchor=\"middle\" x=\"1311.5\" y=\"-22.8\" font-family=\"Helvetica,sans-Serif\" font-size=\"14.00\">value = [1, 2, 8]</text>\n<text text-anchor=\"middle\" x=\"1311.5\" y=\"-7.8\" font-family=\"Helvetica,sans-Serif\" font-size=\"14.00\">class = Cluster_2</text>\n</g>\n<!-- 19&#45;&gt;21 -->\n<g id=\"edge21\" class=\"edge\">\n<title>19&#45;&gt;21</title>\n<path fill=\"none\" stroke=\"black\" d=\"M1262.54,-103.73C1268.85,-94.88 1275.52,-85.51 1281.85,-76.63\"/>\n<polygon fill=\"black\" stroke=\"black\" points=\"1284.83,-78.48 1287.78,-68.3 1279.13,-74.41 1284.83,-78.48\"/>\n</g>\n<!-- 23 -->\n<g id=\"node24\" class=\"node\">\n<title>23</title>\n<path fill=\"#8139e5\" stroke=\"black\" d=\"M1499,-68C1499,-68 1402,-68 1402,-68 1396,-68 1390,-62 1390,-56 1390,-56 1390,-12 1390,-12 1390,-6 1396,0 1402,0 1402,0 1499,0 1499,0 1505,0 1511,-6 1511,-12 1511,-12 1511,-56 1511,-56 1511,-62 1505,-68 1499,-68\"/>\n<text text-anchor=\"middle\" x=\"1450.5\" y=\"-52.8\" font-family=\"Helvetica,sans-Serif\" font-size=\"14.00\">gini = 0.0</text>\n<text text-anchor=\"middle\" x=\"1450.5\" y=\"-37.8\" font-family=\"Helvetica,sans-Serif\" font-size=\"14.00\">samples = 3</text>\n<text text-anchor=\"middle\" x=\"1450.5\" y=\"-22.8\" font-family=\"Helvetica,sans-Serif\" font-size=\"14.00\">value = [0, 0, 3]</text>\n<text text-anchor=\"middle\" x=\"1450.5\" y=\"-7.8\" font-family=\"Helvetica,sans-Serif\" font-size=\"14.00\">class = Cluster_2</text>\n</g>\n<!-- 22&#45;&gt;23 -->\n<g id=\"edge23\" class=\"edge\">\n<title>22&#45;&gt;23</title>\n<path fill=\"none\" stroke=\"black\" d=\"M1450.5,-103.73C1450.5,-95.52 1450.5,-86.86 1450.5,-78.56\"/>\n<polygon fill=\"black\" stroke=\"black\" points=\"1454,-78.3 1450.5,-68.3 1447,-78.3 1454,-78.3\"/>\n</g>\n<!-- 24 -->\n<g id=\"node25\" class=\"node\">\n<title>24</title>\n<path fill=\"#fcfafe\" stroke=\"black\" d=\"M1672,-68C1672,-68 1541,-68 1541,-68 1535,-68 1529,-62 1529,-56 1529,-56 1529,-12 1529,-12 1529,-6 1535,0 1541,0 1541,0 1672,0 1672,0 1678,0 1684,-6 1684,-12 1684,-12 1684,-56 1684,-56 1684,-62 1678,-68 1672,-68\"/>\n<text text-anchor=\"middle\" x=\"1606.5\" y=\"-52.8\" font-family=\"Helvetica,sans-Serif\" font-size=\"14.00\">gini = 0.666</text>\n<text text-anchor=\"middle\" x=\"1606.5\" y=\"-37.8\" font-family=\"Helvetica,sans-Serif\" font-size=\"14.00\">samples = 405</text>\n<text text-anchor=\"middle\" x=\"1606.5\" y=\"-22.8\" font-family=\"Helvetica,sans-Serif\" font-size=\"14.00\">value = [135, 128, 142]</text>\n<text text-anchor=\"middle\" x=\"1606.5\" y=\"-7.8\" font-family=\"Helvetica,sans-Serif\" font-size=\"14.00\">class = Cluster_2</text>\n</g>\n<!-- 22&#45;&gt;24 -->\n<g id=\"edge24\" class=\"edge\">\n<title>22&#45;&gt;24</title>\n<path fill=\"none\" stroke=\"black\" d=\"M1508.59,-103.73C1522.36,-94.06 1537.02,-83.77 1550.69,-74.17\"/>\n<polygon fill=\"black\" stroke=\"black\" points=\"1552.89,-76.91 1559.06,-68.3 1548.86,-71.18 1552.89,-76.91\"/>\n</g>\n</g>\n</svg>\n"
          },
          "metadata": {},
          "execution_count": 221
        }
      ]
    },
    {
      "cell_type": "code",
      "source": [
        "# decision tree with original(uncleaned data)\n",
        "from sklearn.model_selection import StratifiedKFold\n",
        "X_train, X_test, y_train, y_test = \\\n",
        "    train_test_split(scaled_X, y_km, \n",
        "                     test_size=0.20,\n",
        "                     stratify=y_km,\n",
        "                     random_state=1)\n",
        "\n",
        "pipe2_dt = make_pipeline(StandardScaler(),\n",
        "                        \n",
        "                        DecisionTreeClassifier())\n",
        "\n",
        "\n",
        "kfold = StratifiedKFold(n_splits=10).split(X_train, y_train)\n",
        "\n",
        "scores2 = []\n",
        "for k, (train, test) in enumerate(kfold):\n",
        "    pipe2_dt.fit(X_train, y_train)\n",
        "    score = pipe2_dt.score(X_train, y_train)\n",
        "    scores2.append(score)\n",
        "print('Test Accuracy: %.3f' % pipe2_dt.score(X_test, y_test))\n"
      ],
      "metadata": {
        "colab": {
          "base_uri": "https://localhost:8080/"
        },
        "id": "6VOn46Ucnof7",
        "outputId": "d4e5058f-72b2-420d-fedb-e66c28e0052e"
      },
      "execution_count": 222,
      "outputs": [
        {
          "output_type": "stream",
          "name": "stdout",
          "text": [
            "Test Accuracy: 0.987\n"
          ]
        }
      ]
    },
    {
      "cell_type": "markdown",
      "source": [],
      "metadata": {
        "id": "MK8wWsMsnoJ0"
      }
    },
    {
      "cell_type": "code",
      "source": [
        "from sklearn.model_selection import cross_val_score\n",
        "\n",
        "scores1 = cross_val_score(estimator=pipe1_dt,\n",
        "                         X=X_train,\n",
        "                         y=y_train,\n",
        "                         cv=10,\n",
        "                         n_jobs=1)\n",
        "\n",
        "scores2 = cross_val_score(estimator=pipe2_dt,\n",
        "                         X=X_train,\n",
        "                         y=y_train,\n",
        "                         cv=10,\n",
        "                         n_jobs=1)\n",
        "\n",
        "print('Cross Validation accuracy for decistion tree on cleaned data: %.3f +/- %.3f' % (np.mean(scores1), np.std(scores1)))\n",
        "\n",
        "print('Cross Validation accuracy for decistion tree on original data: %.3f +/- %.3f' % (np.mean(scores2), np.std(scores2)))"
      ],
      "metadata": {
        "colab": {
          "base_uri": "https://localhost:8080/"
        },
        "id": "YXFQLryXpmoI",
        "outputId": "d6f11b4a-0560-4a81-ed1f-f89862bab31f"
      },
      "execution_count": 223,
      "outputs": [
        {
          "output_type": "stream",
          "name": "stdout",
          "text": [
            "Cross Validation accuracy for decistion tree on cleaned data: 0.993 +/- 0.011\n",
            "Cross Validation accuracy for decistion tree on original data: 0.993 +/- 0.011\n"
          ]
        }
      ]
    },
    {
      "cell_type": "code",
      "source": [
        "# visualizing the tree\n",
        "\n",
        "import graphviz\n",
        "from pydotplus import graph_from_dot_data\n",
        "from sklearn.tree import export_graphviz\n",
        "\n",
        "from sklearn import tree\n",
        "tree_model = DecisionTreeClassifier(criterion='gini', max_depth=4, random_state=1)\n",
        "tree_model.fit(X_train, y_train)\n",
        "\n",
        "dot_data = export_graphviz(tree_model,\n",
        "                           filled=True, \n",
        "                           rounded=True,\n",
        "                           class_names=['Cluster_0', \n",
        "                                        'Cluster_1',\n",
        "                                        'Cluster_2'],\n",
        "                           feature_names=['f1', \n",
        "                                          'f2'],\n",
        "                           out_file=None) \n",
        "graph = graph_from_dot_data(dot_data) \n",
        "graph.write_png('tree.png') \n",
        "\n",
        "graph = graphviz.Source(dot_data, format=\"png\") \n",
        "graph\n"
      ],
      "metadata": {
        "colab": {
          "base_uri": "https://localhost:8080/",
          "height": 441
        },
        "id": "RCezy6HrKWIQ",
        "outputId": "d3a083bd-84f7-44fa-8355-3cc22f4c4cdb"
      },
      "execution_count": 224,
      "outputs": [
        {
          "output_type": "execute_result",
          "data": {
            "text/plain": [
              "<graphviz.files.Source at 0x7ffa7a679610>"
            ],
            "image/svg+xml": "<?xml version=\"1.0\" encoding=\"UTF-8\" standalone=\"no\"?>\n<!DOCTYPE svg PUBLIC \"-//W3C//DTD SVG 1.1//EN\"\n \"http://www.w3.org/Graphics/SVG/1.1/DTD/svg11.dtd\">\n<!-- Generated by graphviz version 2.43.0 (0)\n -->\n<!-- Title: Tree Pages: 1 -->\n<svg width=\"355pt\" height=\"314pt\"\n viewBox=\"0.00 0.00 355.00 314.00\" xmlns=\"http://www.w3.org/2000/svg\" xmlns:xlink=\"http://www.w3.org/1999/xlink\">\n<g id=\"graph0\" class=\"graph\" transform=\"scale(1 1) rotate(0) translate(4 310)\">\n<title>Tree</title>\n<polygon fill=\"white\" stroke=\"transparent\" points=\"-4,4 -4,-310 351,-310 351,4 -4,4\"/>\n<!-- 0 -->\n<g id=\"node1\" class=\"node\">\n<title>0</title>\n<path fill=\"#fffefe\" stroke=\"black\" d=\"M274,-306C274,-306 143,-306 143,-306 137,-306 131,-300 131,-294 131,-294 131,-235 131,-235 131,-229 137,-223 143,-223 143,-223 274,-223 274,-223 280,-223 286,-229 286,-235 286,-235 286,-294 286,-294 286,-300 280,-306 274,-306\"/>\n<text text-anchor=\"middle\" x=\"208.5\" y=\"-290.8\" font-family=\"Helvetica,sans-Serif\" font-size=\"14.00\">f2 &lt;= 0.443</text>\n<text text-anchor=\"middle\" x=\"208.5\" y=\"-275.8\" font-family=\"Helvetica,sans-Serif\" font-size=\"14.00\">gini = 0.667</text>\n<text text-anchor=\"middle\" x=\"208.5\" y=\"-260.8\" font-family=\"Helvetica,sans-Serif\" font-size=\"14.00\">samples = 600</text>\n<text text-anchor=\"middle\" x=\"208.5\" y=\"-245.8\" font-family=\"Helvetica,sans-Serif\" font-size=\"14.00\">value = [202, 198, 200]</text>\n<text text-anchor=\"middle\" x=\"208.5\" y=\"-230.8\" font-family=\"Helvetica,sans-Serif\" font-size=\"14.00\">class = Cluster_0</text>\n</g>\n<!-- 1 -->\n<g id=\"node2\" class=\"node\">\n<title>1</title>\n<path fill=\"#fffefd\" stroke=\"black\" d=\"M191.5,-187C191.5,-187 75.5,-187 75.5,-187 69.5,-187 63.5,-181 63.5,-175 63.5,-175 63.5,-116 63.5,-116 63.5,-110 69.5,-104 75.5,-104 75.5,-104 191.5,-104 191.5,-104 197.5,-104 203.5,-110 203.5,-116 203.5,-116 203.5,-175 203.5,-175 203.5,-181 197.5,-187 191.5,-187\"/>\n<text text-anchor=\"middle\" x=\"133.5\" y=\"-171.8\" font-family=\"Helvetica,sans-Serif\" font-size=\"14.00\">f1 &lt;= &#45;0.298</text>\n<text text-anchor=\"middle\" x=\"133.5\" y=\"-156.8\" font-family=\"Helvetica,sans-Serif\" font-size=\"14.00\">gini = 0.5</text>\n<text text-anchor=\"middle\" x=\"133.5\" y=\"-141.8\" font-family=\"Helvetica,sans-Serif\" font-size=\"14.00\">samples = 402</text>\n<text text-anchor=\"middle\" x=\"133.5\" y=\"-126.8\" font-family=\"Helvetica,sans-Serif\" font-size=\"14.00\">value = [202, 0, 200]</text>\n<text text-anchor=\"middle\" x=\"133.5\" y=\"-111.8\" font-family=\"Helvetica,sans-Serif\" font-size=\"14.00\">class = Cluster_0</text>\n</g>\n<!-- 0&#45;&gt;1 -->\n<g id=\"edge1\" class=\"edge\">\n<title>0&#45;&gt;1</title>\n<path fill=\"none\" stroke=\"black\" d=\"M182.48,-222.91C176.84,-214.1 170.81,-204.7 164.98,-195.61\"/>\n<polygon fill=\"black\" stroke=\"black\" points=\"167.82,-193.55 159.47,-187.02 161.93,-197.33 167.82,-193.55\"/>\n<text text-anchor=\"middle\" x=\"154.13\" y=\"-207.74\" font-family=\"Helvetica,sans-Serif\" font-size=\"14.00\">True</text>\n</g>\n<!-- 4 -->\n<g id=\"node5\" class=\"node\">\n<title>4</title>\n<path fill=\"#39e581\" stroke=\"black\" d=\"M335,-179.5C335,-179.5 234,-179.5 234,-179.5 228,-179.5 222,-173.5 222,-167.5 222,-167.5 222,-123.5 222,-123.5 222,-117.5 228,-111.5 234,-111.5 234,-111.5 335,-111.5 335,-111.5 341,-111.5 347,-117.5 347,-123.5 347,-123.5 347,-167.5 347,-167.5 347,-173.5 341,-179.5 335,-179.5\"/>\n<text text-anchor=\"middle\" x=\"284.5\" y=\"-164.3\" font-family=\"Helvetica,sans-Serif\" font-size=\"14.00\">gini = 0.0</text>\n<text text-anchor=\"middle\" x=\"284.5\" y=\"-149.3\" font-family=\"Helvetica,sans-Serif\" font-size=\"14.00\">samples = 198</text>\n<text text-anchor=\"middle\" x=\"284.5\" y=\"-134.3\" font-family=\"Helvetica,sans-Serif\" font-size=\"14.00\">value = [0, 198, 0]</text>\n<text text-anchor=\"middle\" x=\"284.5\" y=\"-119.3\" font-family=\"Helvetica,sans-Serif\" font-size=\"14.00\">class = Cluster_1</text>\n</g>\n<!-- 0&#45;&gt;4 -->\n<g id=\"edge4\" class=\"edge\">\n<title>0&#45;&gt;4</title>\n<path fill=\"none\" stroke=\"black\" d=\"M234.87,-222.91C242.18,-211.65 250.13,-199.42 257.47,-188.11\"/>\n<polygon fill=\"black\" stroke=\"black\" points=\"260.44,-189.96 262.96,-179.67 254.57,-186.15 260.44,-189.96\"/>\n<text text-anchor=\"middle\" x=\"268.15\" y=\"-200.42\" font-family=\"Helvetica,sans-Serif\" font-size=\"14.00\">False</text>\n</g>\n<!-- 2 -->\n<g id=\"node3\" class=\"node\">\n<title>2</title>\n<path fill=\"#e58139\" stroke=\"black\" d=\"M113,-68C113,-68 12,-68 12,-68 6,-68 0,-62 0,-56 0,-56 0,-12 0,-12 0,-6 6,0 12,0 12,0 113,0 113,0 119,0 125,-6 125,-12 125,-12 125,-56 125,-56 125,-62 119,-68 113,-68\"/>\n<text text-anchor=\"middle\" x=\"62.5\" y=\"-52.8\" font-family=\"Helvetica,sans-Serif\" font-size=\"14.00\">gini = 0.0</text>\n<text text-anchor=\"middle\" x=\"62.5\" y=\"-37.8\" font-family=\"Helvetica,sans-Serif\" font-size=\"14.00\">samples = 202</text>\n<text text-anchor=\"middle\" x=\"62.5\" y=\"-22.8\" font-family=\"Helvetica,sans-Serif\" font-size=\"14.00\">value = [202, 0, 0]</text>\n<text text-anchor=\"middle\" x=\"62.5\" y=\"-7.8\" font-family=\"Helvetica,sans-Serif\" font-size=\"14.00\">class = Cluster_0</text>\n</g>\n<!-- 1&#45;&gt;2 -->\n<g id=\"edge2\" class=\"edge\">\n<title>1&#45;&gt;2</title>\n<path fill=\"none\" stroke=\"black\" d=\"M107.06,-103.73C101.38,-94.97 95.38,-85.7 89.67,-76.91\"/>\n<polygon fill=\"black\" stroke=\"black\" points=\"92.47,-74.79 84.09,-68.3 86.6,-78.59 92.47,-74.79\"/>\n</g>\n<!-- 3 -->\n<g id=\"node4\" class=\"node\">\n<title>3</title>\n<path fill=\"#8139e5\" stroke=\"black\" d=\"M256,-68C256,-68 155,-68 155,-68 149,-68 143,-62 143,-56 143,-56 143,-12 143,-12 143,-6 149,0 155,0 155,0 256,0 256,0 262,0 268,-6 268,-12 268,-12 268,-56 268,-56 268,-62 262,-68 256,-68\"/>\n<text text-anchor=\"middle\" x=\"205.5\" y=\"-52.8\" font-family=\"Helvetica,sans-Serif\" font-size=\"14.00\">gini = 0.0</text>\n<text text-anchor=\"middle\" x=\"205.5\" y=\"-37.8\" font-family=\"Helvetica,sans-Serif\" font-size=\"14.00\">samples = 200</text>\n<text text-anchor=\"middle\" x=\"205.5\" y=\"-22.8\" font-family=\"Helvetica,sans-Serif\" font-size=\"14.00\">value = [0, 0, 200]</text>\n<text text-anchor=\"middle\" x=\"205.5\" y=\"-7.8\" font-family=\"Helvetica,sans-Serif\" font-size=\"14.00\">class = Cluster_2</text>\n</g>\n<!-- 1&#45;&gt;3 -->\n<g id=\"edge3\" class=\"edge\">\n<title>1&#45;&gt;3</title>\n<path fill=\"none\" stroke=\"black\" d=\"M160.31,-103.73C166.07,-94.97 172.16,-85.7 177.95,-76.91\"/>\n<polygon fill=\"black\" stroke=\"black\" points=\"181.03,-78.58 183.6,-68.3 175.19,-74.73 181.03,-78.58\"/>\n</g>\n</g>\n</svg>\n"
          },
          "metadata": {},
          "execution_count": 224
        }
      ]
    },
    {
      "cell_type": "code",
      "source": [
        "# I think I made a mistake somewhere because my results for cleaned and uncleaned data are same"
      ],
      "metadata": {
        "id": "gYRBLywzjO7H"
      },
      "execution_count": 225,
      "outputs": []
    }
  ]
}